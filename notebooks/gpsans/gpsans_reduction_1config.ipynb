{
 "cells": [
  {
   "cell_type": "markdown",
   "metadata": {},
   "source": [
    "# This notebook will run through a list of samples and use single instrument settings to get either annular 1D curve or I vs q curve."
   ]
  },
  {
   "cell_type": "markdown",
   "metadata": {},
   "source": [
    "## First Method: a JSON file is imported\n",
    "\n",
    "- Reduction parameters common to all samples are defined in a JSON file.\n",
    "- Reduction parameters pertaining to the event runs are updated with a python dictionary."
   ]
  },
  {
   "cell_type": "code",
   "execution_count": null,
   "metadata": {},
   "outputs": [],
   "source": [
    "#USER Input here with scan numbers etc.\n",
    "samples = ['9166', '9167', '9176']\n",
    "samples_trans = ['9178', '9179', '9188']\n",
    "sample_thick = ['0.1'] * 3\n",
    "bkgd = ['9165', '9165', '9165']\n",
    "bkgd_trans = ['9177'] * 3\n",
    "\n",
    "sample_names=[\"Al4\", \"PorasilC3\", \"PTMA-15\"]"
   ]
  },
  {
   "cell_type": "markdown",
   "metadata": {},
   "source": [
    "### From this point on, user should not make any changes"
   ]
  },
  {
   "cell_type": "code",
   "execution_count": null,
   "metadata": {},
   "outputs": [],
   "source": [
    "%matplotlib inline\n",
    "import json\n",
    "import os\n",
    "from pprint import pprint as pretty_print\n",
    "import time\n",
    "from drtsans.mono.gpsans import (load_all_files, reduce_single_configuration, plot_reduction_output,\n",
    "                                 reduction_parameters, update_reduction_parameters, validate_reduction_parameters)"
   ]
  },
  {
   "cell_type": "code",
   "execution_count": null,
   "metadata": {},
   "outputs": [],
   "source": [
    "# reduction parameters common to all the runs for this notebook\n",
    "json_file = '/HFIR/CG2/shared/sans-backend/notebooks/gpsans/gpsans_reduction_1config.json'\n",
    "with open(json_file, 'r') as file_handle:\n",
    "    common_configuration_full = json.load(file_handle)"
   ]
  },
  {
   "cell_type": "code",
   "execution_count": null,
   "metadata": {},
   "outputs": [],
   "source": [
    "# I'm working of a better printout of the reduction parameters. For now you can use pretty_print\n",
    "pretty_print(common_configuration_full)"
   ]
  },
  {
   "cell_type": "code",
   "execution_count": null,
   "metadata": {},
   "outputs": [],
   "source": [
    "# Create output directory\n",
    "\n",
    "output_dir = common_configuration_full['configuration']['outputDir']\n",
    "for subfolder in ['1D','2D']:\n",
    "    output_folder=os.path.join(output_dir,subfolder)\n",
    "    if not os.path.exists(output_folder):\n",
    "        os.makedirs(output_folder)\n",
    "\n",
    "print('Output directory is \"', output_dir, '\"', sep='')"
   ]
  },
  {
   "cell_type": "code",
   "execution_count": null,
   "metadata": {
    "scrolled": true
   },
   "outputs": [],
   "source": [
    "# reduce each run\n",
    "\n",
    "start_time = time.time()\n",
    "for i in range(len(samples)):\n",
    "    # Settings particular to each reduction session\n",
    "    run_data = {\n",
    "        'sample': {\n",
    "            'runNumber': samples[i],\n",
    "            'thickness': sample_thick[i],\n",
    "            'transmission': {'runNumber': samples_trans[i]}\n",
    "        },\n",
    "        'background': {\n",
    "            'runNumber': bkgd[i],\n",
    "            'transmission': {'runNumber': bkgd_trans[i]}\n",
    "        },\n",
    "        'outputFileName': sample_names[i],\n",
    "    }\n",
    "\n",
    "    # Update our common settings with the particulars of the current reduction\n",
    "    reduction_input = update_reduction_parameters(common_configuration_full, run_data, validate=True)\n",
    "\n",
    "    # Begin redution. Be sure to validate the parameters before.\n",
    "    # We validated the parameters when we updated them. Otherwise you can invoke the validation like this:\n",
    "    # reduction_input = validate_reduction_parameters(reduction_input)\n",
    "\n",
    "    loaded=load_all_files(reduction_input)\n",
    "    out=reduce_single_configuration(loaded, reduction_input)\n",
    "    plot_reduction_output(out, reduction_input, loglog=False)\n",
    "\n",
    "    # Save the reduction parameters of each reduction session to a JSON file\n",
    "    output_dir = reduction_input['configuration']['outputDir']\n",
    "    output_json_file = os.path.join(output_dir, f'{sample_names[i]}.json')  # full path to the JSON file\n",
    "    with open(output_json_file, 'w') as file_handle:\n",
    "        json.dump(reduction_input, file_handle, indent=2)\n",
    "\n",
    "end_time = time.time()\n",
    "print(end_time - start_time)     \n"
   ]
  },
  {
   "cell_type": "code",
   "execution_count": null,
   "metadata": {},
   "outputs": [],
   "source": [
    "%%bash\n",
    "head  /tmp/gpsans_reduction_1config/Al4.json"
   ]
  },
  {
   "cell_type": "markdown",
   "metadata": {},
   "source": [
    "## Second Method: no input JSON file is used\n",
    "\n",
    "- Reduction parameters common to all samples are defined in a python dictionary.\n",
    "- Reduction parameters pertaining to the event runs are updated with a python dictionary."
   ]
  },
  {
   "cell_type": "code",
   "execution_count": null,
   "metadata": {},
   "outputs": [],
   "source": [
    "#USER Input here with scan numbers etc.\n",
    "samples = ['9166', '9167', '9176']\n",
    "samples_trans = ['9178', '9179', '9188']\n",
    "sample_thick = ['0.1'] * 3\n",
    "bkgd = ['9165', '9165', '9165']\n",
    "bkgd_trans = ['9177'] * 3\n",
    "\n",
    "sample_names=[\"Al4\", \"PorasilC3\", \"PTMA-15\"]"
   ]
  },
  {
   "cell_type": "markdown",
   "metadata": {},
   "source": [
    "### From this point on, user should not make any changes"
   ]
  },
  {
   "cell_type": "code",
   "execution_count": null,
   "metadata": {},
   "outputs": [],
   "source": [
    "%matplotlib inline\n",
    "import json\n",
    "import os\n",
    "from pprint import pprint as pretty_print\n",
    "import time\n",
    "from drtsans.mono.gpsans import (load_all_files, reduce_single_configuration, plot_reduction_output,\n",
    "                                 reduction_parameters, update_reduction_parameters, validate_reduction_parameters)"
   ]
  },
  {
   "cell_type": "code",
   "execution_count": null,
   "metadata": {},
   "outputs": [],
   "source": [
    "# reduction parameters common to all the runs for this notebook\n",
    "common_configuration = {\n",
    "    \"iptsNumber\": 21981,\n",
    "    \"emptyTransmission\": {\"runNumber\": 9177},\n",
    "    \"beamCenter\": {\"runNumber\": 9177},\n",
    "    \"configuration\": {\n",
    "        \"outputDir\": \"/tmp/gpsans_reduction_1config\",\n",
    "        \"darkFileName\": \"/HFIR/CG2/shared/Lilin/DC/CG2_8844.nxs.h5\",\n",
    "        \"sensitivityFileName\": \"/HFIR/CG2/shared/drt_sensitivity/sens_c486_LDS.nxs\",\n",
    "        \"DBScalingBeamRadius\": 25,\n",
    "        \"mmRadiusForTransmission\": 40,\n",
    "        \"absoluteScaleMethod\": \"direct_beam\",\n",
    "        \"numQxQyBins\": 192,\n",
    "        \"1DQbinType\": \"scalar\",\n",
    "        \"QbinType\": \"log\",\n",
    "        \"LogQBinsPerDecade\": 33,\n",
    "        \"useLogQBinsDecadeCenter\": True,\n",
    "    }\n",
    "}\n",
    "\n",
    "# Add on the other reduction parameters with their default values (most will be empty)\n",
    "common_configuration_full = reduction_parameters(common_configuration, 'GPSANS', validate=False)"
   ]
  },
  {
   "cell_type": "code",
   "execution_count": null,
   "metadata": {},
   "outputs": [],
   "source": [
    "with open('/tmp/gpsans_reduction_1config.json', 'w') as file_handle:\n",
    "    json.dump(common_configuration_full, file_handle, indent=2)"
   ]
  },
  {
   "cell_type": "markdown",
   "metadata": {},
   "source": [
    "(the rest is the same as in the first method)"
   ]
  },
  {
   "cell_type": "code",
   "execution_count": null,
   "metadata": {},
   "outputs": [],
   "source": [
    "# I'm working of a better printout of the reduction parameters. For now you can use pretty_print\n",
    "pretty_print(common_configuration_full)"
   ]
  },
  {
   "cell_type": "code",
   "execution_count": null,
   "metadata": {},
   "outputs": [],
   "source": [
    "# Create output directory\n",
    "\n",
    "output_dir = common_configuration_full['configuration']['outputDir']\n",
    "for subfolder in ['1D','2D']:\n",
    "    output_folder=os.path.join(output_dir,subfolder)\n",
    "    if not os.path.exists(output_folder):\n",
    "        os.makedirs(output_folder)\n",
    "\n",
    "print('Output directory is \"', output_dir, '\"', sep='')"
   ]
  },
  {
   "cell_type": "code",
   "execution_count": null,
   "metadata": {
    "scrolled": false
   },
   "outputs": [],
   "source": [
    "# reduce each run\n",
    "\n",
    "start_time = time.time()\n",
    "for i in range(len(samples)):\n",
    "    # Settings particular to each reduction session\n",
    "    run_data = {\n",
    "        'sample': {\n",
    "            'runNumber': samples[i],\n",
    "            'thickness': sample_thick[i],\n",
    "            'transmission': {'runNumber': samples_trans[i]}\n",
    "        },\n",
    "        'background': {\n",
    "            'runNumber': bkgd[i],\n",
    "            'transmission': {'runNumber': bkgd_trans[i]}\n",
    "        },\n",
    "        'outputFileName': sample_names[i],\n",
    "    }\n",
    "\n",
    "    # Update our common settings with the particulars of the current reduction\n",
    "    reduction_input = update_reduction_parameters(common_configuration_full, run_data, validate=True)\n",
    "\n",
    "    # Begin redution. Be sure to validate the parameters before.\n",
    "    # We validated the parameters when we updated them. Otherwise you can invoke the validation like this:\n",
    "    # reduction_input = validate_reduction_parameters(reduction_input)\n",
    "\n",
    "    loaded=load_all_files(reduction_input)\n",
    "    out=reduce_single_configuration(loaded, reduction_input)\n",
    "    plot_reduction_output(out, reduction_input, loglog=False)\n",
    "\n",
    "    # Save the reduction parameters of each reduction session to a JSON file\n",
    "    output_dir = reduction_input['configuration']['outputDir']\n",
    "    output_json_file = os.path.join(output_dir, f'{sample_names[i]}.json')  # full path to the JSON file\n",
    "    with open(output_json_file, 'w') as file_handle:\n",
    "        json.dump(reduction_input, file_handle, indent=2)\n",
    "\n",
    "end_time = time.time()\n",
    "print(end_time - start_time)     \n"
   ]
  },
  {
   "cell_type": "code",
   "execution_count": null,
   "metadata": {},
   "outputs": [],
   "source": [
    "%%bash\n",
    "head  /tmp/gpsans_reduction_1config/Al4.json"
   ]
  },
  {
   "cell_type": "code",
   "execution_count": null,
   "metadata": {},
   "outputs": [],
   "source": []
  }
 ],
 "metadata": {
  "kernelspec": {
   "display_name": "Python 3",
   "language": "python",
   "name": "python3"
  },
  "language_info": {
   "codemirror_mode": {
    "name": "ipython",
    "version": 3
   },
   "file_extension": ".py",
   "mimetype": "text/x-python",
   "name": "python",
   "nbconvert_exporter": "python",
   "pygments_lexer": "ipython3",
   "version": "3.6.9"
  },
  "toc": {
   "base_numbering": 1,
   "nav_menu": {},
   "number_sections": true,
   "sideBar": true,
   "skip_h1_title": false,
   "title_cell": "Table of Contents",
   "title_sidebar": "Contents",
   "toc_cell": false,
   "toc_position": {},
   "toc_section_display": true,
   "toc_window_display": false
  }
 },
 "nbformat": 4,
 "nbformat_minor": 2
}
