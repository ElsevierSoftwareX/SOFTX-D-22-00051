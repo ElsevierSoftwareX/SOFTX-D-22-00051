{
 "cells": [
  {
   "cell_type": "markdown",
   "metadata": {},
   "source": [
    "<h3> Create and Save a Barscan Calibration from a Sequence of Files</h3>\n",
    "\n",
    "Most relevant function here is [calculate_barscan_calibration](http://docs.drt-sans.ornl.gov/drtsans/pixel_calibration.html#drtsans.pixel_calibration.calculate_barscan_calibration).\n",
    "\n",
    "The output of <code>calculate_barscan_calibration</code> outputs an object containing two parts: a <b>metadata</b> (instrument name, day stamp, name of the double-detector-array), and the proper calibration data, contained in a Mantid <b>table</b> object."
   ]
  },
  {
   "cell_type": "code",
   "execution_count": null,
   "metadata": {},
   "outputs": [],
   "source": [
    "#\n",
    "# \"plot_workspace\" is a utility function, which we will use a couple of times\n",
    "#\n",
    "%matplotlib inline\n",
    "from drtsans.mono.gpsans import plot_detector\n",
    "def plot_workspace(input_workspace, axes_mode='tube-pixel'):\n",
    "    return plot_detector(input_workspace, backend='mpl',axes_mode=axes_mode, imshow_kwargs={})"
   ]
  },
  {
   "cell_type": "markdown",
   "metadata": {},
   "source": [
    "<h4>Saving memory by transforming the events files into histograms</h4>\n",
    "\n",
    "Although not necessary in the analysis machines, we're going to transform these events files to histogram files, thus reducing their size to about 20% the original size. We'll use these histogram files for the calibration.\n",
    "\n",
    "This takes up quite a bit of time, so **it should be done only once**."
   ]
  },
  {
   "cell_type": "code",
   "execution_count": null,
   "metadata": {},
   "outputs": [],
   "source": [
    "r\"\"\"\n",
    "first_run, last_run = 9905, 10016\n",
    "data_files = '/HFIR/CG2/IPTS-23801/nexus/CG2_{0}.nxs.h5'\n",
    "save_dir = '/HFIR/CG2/shared/sans-backend/data/new/ornl/sans/hfir/gpsans/pixel_calibration/runs_9905_10016'\n",
    "\n",
    "import os\n",
    "from mantid.simpleapi import LoadEventNexus, HFIRSANS2Wavelength, SaveNexus, DeleteWorkspaces\n",
    "\n",
    "os.makedirs(save_dir, exist_ok=True)\n",
    "\n",
    "print('Processing runs:')\n",
    "for run in range(first_run, 1 + last_run):\n",
    "    print(run, ', ', end='')\n",
    "\n",
    "    workspace_events = 'events_{0}'.format(run)\n",
    "    LoadEventNexus(Filename=data_files.format(run), LoadMonitors=False, OutputWorkspace=workspace_events)\n",
    "\n",
    "    workspace_counts = 'counts_{0}'.format(run)\n",
    "    HFIRSANS2Wavelength(InputWorkspace=workspace_events, OutputWorkspace=workspace_counts)\n",
    "\n",
    "    file_histogram = os.path.join(save_dir, 'CG2_{0}.nxs'.format(run))\n",
    "    SaveNexus(InputWorkspace='counts_{0}'.format(run), Filename=file_histogram)\n",
    "    DeleteWorkspaces([workspace_events, workspace_counts])\n",
    "\"\"\""
   ]
  },
  {
   "cell_type": "code",
   "execution_count": null,
   "metadata": {},
   "outputs": [],
   "source": [
    "import os\n",
    "first_run, last_run = 9905, 10016\n",
    "save_dir = '/HFIR/CG2/shared/sans-backend/data/new/ornl/sans/hfir/gpsans/pixel_calibration/runs_9905_10016'\n",
    "barscan_dataset = list()  # list of histogram files\n",
    "for run in range(first_run, 1 + last_run):\n",
    "    file_histogram = os.path.join(save_dir, 'CG2_{0}.nxs'.format(run))\n",
    "    barscan_dataset.append(file_histogram)"
   ]
  },
  {
   "cell_type": "markdown",
   "metadata": {},
   "source": [
    "We can inspect a few of the bar scans by looking at the intensity pattern on a detector with default (uncalibrated) detector heights and positions"
   ]
  },
  {
   "cell_type": "code",
   "execution_count": null,
   "metadata": {},
   "outputs": [],
   "source": [
    "from mantid.simpleapi import LoadNexus\n",
    "\n",
    "delta = int((last_run - first_run ) / 4)\n",
    "for index, run in enumerate(range(first_run, last_run, delta)):\n",
    "    output_workspace = 'CG2_{0}'.format(run)\n",
    "    print(output_workspace)\n",
    "    LoadNexus(Filename=barscan_dataset[index * delta], OutputWorkspace=output_workspace)\n",
    "    plot_workspace(output_workspace)"
   ]
  },
  {
   "cell_type": "markdown",
   "metadata": {},
   "source": [
    "<h4>Calculate the barscan</h4>\n",
    "\n",
    "We are using the **default formula** for the position of the bar:  \n",
    "<code>565 - {y} - 0.0914267 * (191 - {tube})</code>  \n",
    "\n",
    "- <code>{y}</code> is the bar position reported in the log.\n",
    "- <code>{tube}</code> is the index of each tube, with index zero being the leftmost tube when viewed from the sample's position. Required if **the bar is not completely horizontal**, but it's inclined."
   ]
  },
  {
   "cell_type": "code",
   "execution_count": null,
   "metadata": {},
   "outputs": [],
   "source": [
    "import time\n",
    "from drtsans.mono.gpsans import calculate_barscan_calibration\n",
    "\n",
    "start_time = time.time()\n",
    "formula = '565 - {y} - 0.0914267 * (191 - {tube})'\n",
    "calibration = calculate_barscan_calibration(barscan_dataset, formula=formula)\n",
    "print('Calibration took ', int((time.time() - start_time) / 60), 'minutes')"
   ]
  },
  {
   "cell_type": "markdown",
   "metadata": {},
   "source": [
    "### Visualizing the Calibrations\n",
    "\n",
    "We first apply the calibration to run `9960`. Then we use method [apply]() to generate a calibrated workspace `CG3_9960_calibrated` from run un calibrated run `9960`."
   ]
  },
  {
   "cell_type": "code",
   "execution_count": null,
   "metadata": {},
   "outputs": [],
   "source": [
    "save_dir = '/HFIR/CG2/shared/sans-backend/data/new/ornl/sans/hfir/gpsans/pixel_calibration/runs_9905_10016'\n",
    "LoadNexus(Filename=os.path.join(save_dir, 'CG2_9960.nxs'), OutputWorkspace='CG2_9960')\n",
    "\n",
    "calibration.apply('CG2_9960', output_workspace='CG2_9960_calibrated')\n",
    "\n",
    "plot_workspace('CG2_9960_calibrated', axes_mode='xy')"
   ]
  },
  {
   "cell_type": "markdown",
   "metadata": {},
   "source": [
    "Then we generate \"views\" of the calibrated pixels with function [as_intensities](https://scse.ornl.gov/docs/drt/sans/drtsans/pixel_calibration.html#drtsans.pixel_calibration.as_intensities). The views are two new workspaces: `views.heights` and `views.positions`. The intensities at the detector pixels of `views.heights` correspond to the heights of the detector. Thus, we can plot these \"intensities\" in a 2D plot of the main and wing detector array."
   ]
  },
  {
   "cell_type": "code",
   "execution_count": null,
   "metadata": {},
   "outputs": [],
   "source": [
    "from drtsans.mono.gpsans import as_intensities\n",
    "views = as_intensities('CG2_9960_calibrated')\n",
    "\n",
    "plot_workspace(views.positions)  # views.positions is a workspace containing pixel positions as pixel counts\n",
    "plot_workspace(views.heights)  # views.heights is a workspace containing pixel positions as pixel counts"
   ]
  },
  {
   "cell_type": "markdown",
   "metadata": {},
   "source": [
    "Finally, we save these views as worskpaces which can be loaded into Mantid and visualized with the Instrument Viewer"
   ]
  },
  {
   "cell_type": "code",
   "execution_count": null,
   "metadata": {},
   "outputs": [],
   "source": [
    "from mantid.simpleapi import SaveNexus\n",
    "SaveNexus(views.heights, '/tmp/pixel_heights.nxs')\n",
    "SaveNexus(views.positions, '/tmp/pixel_positions.nxs')"
   ]
  },
  {
   "cell_type": "markdown",
   "metadata": {},
   "source": [
    "### Analyzing the Calibrations\n",
    "\n",
    "We first compare the middle barscan run before and after we apply the calibration"
   ]
  },
  {
   "cell_type": "code",
   "execution_count": null,
   "metadata": {},
   "outputs": [],
   "source": [
    "plot_workspace('CG2_9960', axes_mode='xy')  # before calibration\n",
    "plot_workspace('CG2_9960_calibrated', axes_mode='xy')"
   ]
  },
  {
   "cell_type": "markdown",
   "metadata": {},
   "source": [
    "Two observations:\n",
    "\n",
    "1. The vertical position of the center of mass for the detector after calibration seem to lie on positive `Y` values. That would indicate that `565` was not the correct value for the position of the bar formula='{y} - 565'.\n",
    "2. After calibration, the position of the top and bottom pixels seem to increase with coordinate `X`, which may indicate a slightly tilt of the bottom edge of the bar"
   ]
  },
  {
   "cell_type": "markdown",
   "metadata": {},
   "source": [
    "### Location of the Vertical Position of the Center of Mass"
   ]
  },
  {
   "cell_type": "code",
   "execution_count": null,
   "metadata": {},
   "outputs": [],
   "source": [
    "import numpy as np\n",
    "cm = 1000 * np.mean(calibration.positions)\n",
    "print('Vertical position of the Center of Mass = ', cm, 'mili meters')\n",
    "print('New offset = ', 565 + cm / 2, 'mili meters')"
   ]
  },
  {
   "cell_type": "markdown",
   "metadata": {},
   "source": [
    "### Analyzing the possible bar tilt\n",
    "\n",
    "We'll look at the variation in the position of the top and bottom pixels as a function of tube index. We perform a linear regression of this variation."
   ]
  },
  {
   "cell_type": "code",
   "execution_count": null,
   "metadata": {},
   "outputs": [],
   "source": [
    "from matplotlib import pyplot as plt\n",
    "def report_tilt(pixel_positions):\n",
    "\n",
    "    # Create a 2D array of pixel heights, dimensions are (number_tubes x pixels_in_tube)\n",
    "    pixel_in_tube_count = 256\n",
    "    tube_count = int(len(pixel_positions) / pixel_in_tube_count)\n",
    "    positions = np.array(pixel_positions).reshape((tube_count, pixel_in_tube_count))\n",
    "\n",
    "    def fit(tube_tip_positions):\n",
    "        r\"\"\"This function will fit the bottom or top pixels against the tube index\"\"\"\n",
    "        tube_indexes = np.arange(tube_count)  # heights as function of tube index\n",
    "        coeffs = np.polyfit(tube_indexes, tube_tip_positions, 1)\n",
    "        fitted = np.poly1d(coeffs)(tube_indexes)  # fitted positions of the tube tip\n",
    "        return coeffs, fitted\n",
    "\n",
    "    for location, tip_positions in (['top', positions[:, -1]], ['bottom', positions[:, 0]]):\n",
    "        coeffs, fitted = fit(tip_positions)  # fit against tube index\n",
    "        # Plot the raw positions and the fitted positions\n",
    "        fig = plt.figure()\n",
    "        ax = fig.add_subplot(1, 1, 1)\n",
    "        ax.plot(np.arange(tube_count), tip_positions)\n",
    "        ax.plot(np.arange(tube_count), fitted)\n",
    "        ax.set_title(f'{location} pixels')\n",
    "        # Print a few representative properties of the tilt\n",
    "        print(location, ' pixels:')\n",
    "        print(f'    slope = {1000 * coeffs[0]:.3f} mili-meters / tube')\n",
    "        print(f'    position difference between last and first tube = {1000 * (fitted[-1] - fitted[0]):.3f} mili-meters')\n",
    "\n",
    "report_tilt(calibration.positions)"
   ]
  },
  {
   "cell_type": "markdown",
   "metadata": {},
   "source": [
    "### Removing the Bar Tilt and Centering the Detector\n",
    "\n",
    "Thinking of the fitted positions for the bottom and top pixels, we can think of the detector array as a deformed rectangle (angles between sides different than 90 degrees), which must be transformed into a rectangle with squared angles (angles between sides equal to 90 degrees).\n",
    "\n",
    "We take the tube in the middle of the main detector array as our reference. We will adjust every other tube so that for every tube, its top and bottom *fitted* pixel positions will coincide with the top and bottom *fitted* positions of the middle tube.\n",
    "\n",
    "Also, since top and bottom fitted positions have a different variation with tube index, the fitted tube lenght changes sligtly with tube index. Thus, we will rescale the fitted tube length to coincide with the fitted tube length of the middle tube. This amounts to a rescaling of pixel heights.\n",
    "\n",
    "Finally, after removing the tilt we displace the detector so that the center of mass lies at `Y=0`."
   ]
  },
  {
   "cell_type": "code",
   "execution_count": null,
   "metadata": {},
   "outputs": [],
   "source": [
    "from copy import deepcopy\n",
    "from drtsans.pixel_calibration import Table\n",
    "\n",
    "def untilt_and_center(a_calibration):\n",
    "    # Create a 2D array of pixel heights, dimensions are (number_tubes x pixels_in_tube)\n",
    "    pixel_in_tube_count = 256\n",
    "    tube_count = int(len(a_calibration.positions) / pixel_in_tube_count)\n",
    "    positions = np.array(a_calibration.positions).reshape((tube_count, pixel_in_tube_count))\n",
    "    heights = np.array(a_calibration.heights).reshape((tube_count, pixel_in_tube_count))\n",
    "\n",
    "    def fit(tube_tip_positions):\n",
    "        r\"\"\"This function will fit the bottom or top pixels against the tube index\"\"\"\n",
    "        tube_indexes = np.arange(tube_count)  # heights as function of tube index\n",
    "        coeffs = np.polyfit(tube_indexes, tube_tip_positions, 1)\n",
    "        fitted = np.poly1d(coeffs)(tube_indexes)  # fitted positions of the tube tip\n",
    "        return coeffs, fitted\n",
    "\n",
    "    _, fitted_top = fit(positions[:, -1])  # fitted positions of the tube tops\n",
    "    _, fitted_bottom = fit(positions[:, 0])  # fitted positions of the tube bottom\n",
    "    # We'll adjust the positions of the tubes to comply with the middle tube\n",
    "    tube_reference_index = int(tube_count / 2)  # tube in the middle of the detector\n",
    "    tube_length_reference = fitted_top[tube_reference_index] - fitted_bottom[tube_reference_index]\n",
    "    # shifts_top indicate the difference in fitted positions for the tube tops with respect to the fitted positions\n",
    "    # for the top of the middle tube\n",
    "    shifts_top = fitted_top[tube_reference_index] - fitted_top\n",
    "    shifts_bottom = fitted_bottom[tube_reference_index] - fitted_bottom\n",
    "    # Calculate now the shifts for every single pixel, going tube by tube\n",
    "    pixel_indexes = np.arange(pixel_in_tube_count)\n",
    "    shifts = list()\n",
    "    scalings = list()\n",
    "    for tube_index in range(tube_count):\n",
    "        a, b = shifts_bottom[tube_index], shifts_top[tube_index]\n",
    "        shifts_in_tube =  a + (b - a) * pixel_indexes / pixel_in_tube_count\n",
    "        shifts.append(shifts_in_tube)\n",
    "        tube_length = fitted_top[tube_index] - fitted_bottom[tube_index]\n",
    "        scalings_in_tube = [tube_length_reference / tube_length] * pixel_in_tube_count\n",
    "        scalings.append(scalings_in_tube)\n",
    "\n",
    "    positions_new = positions + np.array(shifts)\n",
    "    heights_new = heights * np.array(scalings)\n",
    "\n",
    "    # Set CM at y=0\n",
    "    positions_new -= np.mean(positions.ravel())\n",
    "\n",
    "    # retrieve components from the main calibration in order to construct a new calibration\n",
    "    metadata = deepcopy(a_calibration.metadata)\n",
    "    detector_ids = deepcopy(a_calibration.detector_ids)\n",
    "    recalibration = Table(metadata,\n",
    "                          detector_ids=detector_ids,\n",
    "                          positions=positions_new.ravel(),\n",
    "                          heights=heights_new.ravel())\n",
    "    return recalibration\n",
    "\n",
    "calibration = untilt_and_center(calibration)"
   ]
  },
  {
   "cell_type": "markdown",
   "metadata": {},
   "source": [
    "Applying the adjusted calibration should create a centered detector with no dependence on tube index."
   ]
  },
  {
   "cell_type": "code",
   "execution_count": null,
   "metadata": {},
   "outputs": [],
   "source": [
    "calibration.apply('CG2_9960', output_workspace='CG2_9960_recalibrated')\n",
    "plot_workspace('CG2_9960', axes_mode='xy')  # before calibration\n",
    "plot_workspace('CG2_9960_calibrated', axes_mode='xy')  # calibrated, not adjusted\n",
    "plot_workspace('CG2_9960_recalibrated', axes_mode='xy')  # calibrated and adjusted"
   ]
  },
  {
   "cell_type": "markdown",
   "metadata": {},
   "source": [
    "We verify the top and bottom pixels of the recalibration do not have a dependence on tube index"
   ]
  },
  {
   "cell_type": "code",
   "execution_count": null,
   "metadata": {},
   "outputs": [],
   "source": [
    "report_tilt(calibration.positions)"
   ]
  },
  {
   "cell_type": "markdown",
   "metadata": {},
   "source": [
    "### Saving the Calibration\n",
    "\n",
    "<h5>Calibration objects are saved to a database as two separate pieces:</h5>\n",
    "\n",
    "- metadata (instrument name, day stamp, name of the double-detector-array) is save to a JSON file.  \n",
    "- data (a table workspace) is saved to a Nexus file with SaveNexus.  \n",
    "\n",
    "There's a default database for every instrument. The GPSANS location for the metadata JSON file:\n",
    "\n",
    "- GPSANS: <b>/HFIR/CG2/shared/calibration/pixel_calibration.json</b>\n",
    "\n",
    "Data tables are saved under `tables/` subdirectory:\n",
    "\n",
    "- GPSANS: <b>/HFIR/CG2/shared/calibration/tables</b>\n",
    "\n",
    "<h5>Calibration objects have method \"<b>save</b>\" to save itself to the the database. The full signature of this method:</h5>\n",
    "\n",
    "    def save(self, database=None, tablefile=None, overwrite=False):\n",
    "        r\"\"\"\n",
    "        Save the calibration metadata in a JSON file, and the calibration table workspace in a Nexus file.\n",
    "\n",
    "        Parameters\n",
    "        ----------\n",
    "        database: str\n",
    "            Path to the JSON file where the ```metadata``` dictionary will be appended. If :py:obj:`None`,\n",
    "            then the appropriate default file from ~drtsans.pixel_calibration.database_file is used.\n",
    "            Currently, these are the default files:\n",
    "            - BIOSANS, '/HFIR/CG3/shared/calibration/pixel_calibration.json',\n",
    "            - EQSANS, '/SNS/EQSANS/shared/calibration/pixel_calibration.json',\n",
    "            - GPSANS, '/HFIR/CG2/shared/calibration/pixel_calibration.json'\n",
    "        tablefile: str\n",
    "            Path to the Nexus file storing the pixel calibration data. If :py:obj:`None`, then\n",
    "            a composite name is created using the calibration type, instrument, component,\n",
    "            and daystamp. (e.g. \"barscan_gpsans_detector1_20200311\"). The file is saved under\n",
    "            subdirectory 'tables', located within the directory of the ```database``` file.\n",
    "            For instance, '/HFIR/CG3/shared/calibration/tables/barscan_gpsans_detector1_20200311.nxs'\n",
    "        overwrite: bool\n",
    "            Substitute existing entry with same metadata\n",
    "\n",
    "        Raises\n",
    "        ------\n",
    "        ValueError\n",
    "            If we save a calibration already in the database with option ```overwrite=False```.\n",
    "        \"\"\""
   ]
  },
  {
   "cell_type": "code",
   "execution_count": null,
   "metadata": {},
   "outputs": [],
   "source": [
    "# Notice we overwrite the already saved calibration, which will happen if we run this notebook more than once.\n",
    "calibration.save(overwrite=True)"
   ]
  },
  {
   "cell_type": "markdown",
   "metadata": {},
   "source": [
    "<h4>Load and Apply a Barscan Calibration</h4>\n",
    "\n",
    "Most relevant function is [apply_calibrations](http://docs.drt-sans.ornl.gov/drtsans/pixel_calibration.html#drtsans.pixel_calibration.apply_calibrations)"
   ]
  },
  {
   "cell_type": "markdown",
   "metadata": {},
   "source": [
    "We apply the barscan calibration to flood run 10502"
   ]
  },
  {
   "cell_type": "code",
   "execution_count": null,
   "metadata": {},
   "outputs": [],
   "source": [
    "from mantid.simpleapi import LoadEventNexus, HFIRSANS2Wavelength\n",
    "LoadEventNexus(Filename='/HFIR/CG2/IPTS-23801/nexus/CG2_10502.nxs.h5', OutputWorkspace='flood_run')\n",
    "HFIRSANS2Wavelength(InputWorkspace='flood_run', OutputWorkspace='flood_run')"
   ]
  },
  {
   "cell_type": "markdown",
   "metadata": {},
   "source": [
    "We apply the calibration in the database which we saved in the previous section.\n",
    "\n",
    "<code>\n",
    "def apply_calibrations(input_workspace, database=None, calibrations=[cal.name for cal in CalType],\n",
    "                       output_workspace=None):\n",
    "\n",
    "    Load and apply pixel calibrations to an input workspace.\n",
    "\n",
    "    devs - Jose Borreguero <borreguerojm@ornl.gov>\n",
    "\n",
    "    Parameters\n",
    "    ----------\n",
    "    input_workspace: str, ~mantid.api.MatrixWorkspace, ~mantid.api.IEventWorkspace\n",
    "        Input workspace whose pixels are to be calibrated.\n",
    "    database: str\n",
    "        Path to JSON file containing metadata for different past calibrations. If :py:obj:`None`,\n",
    "        the default database is used. Currently, these are the default files:\n",
    "        - BIOSANS, '/HFIR/CG3/shared/calibration/pixel_calibration.json',\n",
    "        - EQSANS, '/SNS/EQSANS/shared/calibration/pixel_calibration.json',\n",
    "        - GPSANS, '/HFIR/CG2/shared/calibration/pixel_calibration.json'\n",
    "    calibrations: str, list\n",
    "        One or more of 'BARSCAN' and/or 'TUBEWIDTH'.\n",
    "    output_workspace: str\n",
    "         Name of the output workspace with calibrated pixels. If :py:obj:`None`, the pixels\n",
    "        of the input workspace will be calibrated.\n",
    "</code>\n",
    "\n",
    "Again we plot the pixel intensities on the main detector and visually compare to the previous plot."
   ]
  },
  {
   "cell_type": "code",
   "execution_count": null,
   "metadata": {},
   "outputs": [],
   "source": [
    "from drtsans.mono.gpsans import apply_calibrations\n",
    "apply_calibrations('flood_run', calibrations='BARSCAN', output_workspace='flood_run_calibrated')\n",
    "\n",
    "plot_workspace('flood_run', axes_mode='xy')\n",
    "plot_workspace('flood_run_calibrated', axes_mode='xy')"
   ]
  },
  {
   "cell_type": "markdown",
   "metadata": {},
   "source": [
    "<h3>Calculate Tube Width Calibration</h3>\n",
    "\n",
    "Relevant function is [calculate_apparent_tube_width](http://docs.drt-sans.ornl.gov/drtsans/pixel_calibration.html#drtsans.pixel_calibration.calculate_apparent_tube_width)"
   ]
  },
  {
   "cell_type": "code",
   "execution_count": null,
   "metadata": {},
   "outputs": [],
   "source": [
    "import time\n",
    "from mantid.simpleapi import LoadEventNexus, HFIRSANS2Wavelength\n",
    "from drtsans.mono.gpsans import calculate_apparent_tube_width\n",
    "\n",
    "#\n",
    "# \"plot_workspace\" is a utility function, which we will use a couple of times\n",
    "#\n",
    "from drtsans.mono.gpsans import plot_detector\n",
    "def plot_workspace(input_workspace, axes_mode='tube-pixel'):\n",
    "    return plot_detector(input_workspace, backend='mpl',axes_mode=axes_mode, imshow_kwargs={})"
   ]
  },
  {
   "cell_type": "code",
   "execution_count": null,
   "metadata": {},
   "outputs": [],
   "source": [
    "LoadEventNexus(Filename='/HFIR/CG2/IPTS-23801/nexus/CG2_10502.nxs.h5', OutputWorkspace='flood_run')\n",
    "HFIRSANS2Wavelength(InputWorkspace='flood_run', OutputWorkspace='flood_workspace')"
   ]
  },
  {
   "cell_type": "markdown",
   "metadata": {},
   "source": [
    "We have masked the beam center and saved the mask in a file. Here we apply the mask to the workspace using `apply_mask`"
   ]
  },
  {
   "cell_type": "code",
   "execution_count": null,
   "metadata": {},
   "outputs": [],
   "source": [
    "from drtsans.mono.gpsans import apply_mask\n",
    "mask_file = '/HFIR/CG2/shared/sans-backend/data/new/ornl/sans/hfir/gpsans/pixel_calibration/flood_files/mask_CG2_8143.xml'\n",
    "apply_mask('flood_workspace', mask=mask_file)\n",
    "\n",
    "plot_workspace('flood_workspace', axes_mode='xy')"
   ]
  },
  {
   "cell_type": "markdown",
   "metadata": {},
   "source": [
    "Calculation of the apparent tube width requires that the pixel positions and heights have been calibrated with a barscan. If no good barscan is present in the database, we can use the default pixel positions and heights defined in the instrument defintion file by setting <code>load_barscan_calibration=False</code>\n"
   ]
  },
  {
   "cell_type": "code",
   "execution_count": null,
   "metadata": {},
   "outputs": [],
   "source": [
    "start_time = time.time()\n",
    "calibration = calculate_apparent_tube_width('flood_workspace', load_barscan_calibration=True)\n",
    "print('Calibration took ', int(time.time() - start_time), 'seconds')"
   ]
  },
  {
   "cell_type": "markdown",
   "metadata": {},
   "source": [
    "<h5>Calibration objects are saved to a database as two separate pieces:</h5>\n",
    "\n",
    "- metadata (instrument name, day stamp, name of the double-detector-array) is save to a JSON file.  \n",
    "- data (a table workspace) is saved to a Nexus file with SaveNexus.  \n",
    "\n",
    "There's a default database for every instrument. The GPSANS location for the metadata JSON file:\n",
    "\n",
    "- GPSANS: <b>/HFIR/CG2/shared/calibration/pixel_calibration.json</b>\n",
    "\n",
    "Data tables are saved under `tables/` subdirectory:\n",
    "\n",
    "- GPSANS: <b>/HFIR/CG2/shared/calibration/tables</b>\n",
    "\n",
    "<h5>Calibration objects have method \"<b>save</b>\" to save itself to the the database. The full signature of this method:</h5>\n",
    "\n",
    "    def save(self, database=None, tablefile=None, overwrite=False):\n",
    "        r\"\"\"\n",
    "        Save the calibration metadata in a JSON file, and the calibration table workspace in a Nexus file.\n",
    "\n",
    "        Parameters\n",
    "        ----------\n",
    "        database: str\n",
    "            Path to the JSON file where the ```metadata``` dictionary will be appended. If :py:obj:`None`,\n",
    "            then the appropriate default file from ~drtsans.pixel_calibration.database_file is used.\n",
    "            Currently, these are the default files:\n",
    "            - BIOSANS, '/HFIR/CG3/shared/calibration/pixel_calibration.json',\n",
    "            - EQSANS, '/SNS/EQSANS/shared/calibration/pixel_calibration.json',\n",
    "            - GPSANS, '/HFIR/CG2/shared/calibration/pixel_calibration.json'\n",
    "        tablefile: str\n",
    "            Path to the Nexus file storing the pixel calibration data. If :py:obj:`None`, then\n",
    "            a composite name is created using the calibration type, instrument, component,\n",
    "            and daystamp. (e.g. \"barscan_gpsans_detector1_20200311\"). The file is saved under\n",
    "            subdirectory 'tables', located within the directory of the ```database``` file.\n",
    "            For instance, '/HFIR/CG3/shared/calibration/tables/barscan_gpsans_detector1_20200311.nxs'\n",
    "        overwrite: bool\n",
    "            Substitute existing entry with same metadata\n",
    "\n",
    "        Raises\n",
    "        ------\n",
    "        ValueError\n",
    "            If we save a calibration already in the database with option ```overwrite=False```.\n",
    "        \"\"\""
   ]
  },
  {
   "cell_type": "code",
   "execution_count": null,
   "metadata": {},
   "outputs": [],
   "source": [
    "# Notice we overwrite the already saved calibration, which will happen if we run this notebook more than once.\n",
    "calibration.save(overwrite=True)"
   ]
  },
  {
   "cell_type": "markdown",
   "metadata": {},
   "source": [
    "<h4>Load and Apply a Tube Width Calibration</h4>\n",
    "\n",
    "In function <code>linear_density</code> below, we integrate the total intensity per tube and divide by the number of non-masked pixels in the tube, and by the tube width. Front end tubes collect more intentity than the back tubes. Similarly, front end tubes have a larger apparent tube width than back tubes. The ratio of total intensity to width should be similar for front and end tubes after the calibration.First some general imports and a couple of custom plotting functions"
   ]
  },
  {
   "cell_type": "code",
   "execution_count": null,
   "metadata": {},
   "outputs": [],
   "source": [
    "import numpy as np\n",
    "from drtsans.tubecollection import TubeCollection\n",
    "from matplotlib import pyplot as plt\n",
    "\n",
    "#\n",
    "# \"plot_histograms\" to create fancy plots of the spectram stored in an input workspace\n",
    "#\n",
    "def plot_histograms(input_workspace, legend=[], xlabel='X-axis', ylabel='Y-axis', title='', linewidths=[]):\n",
    "    r\"\"\"Line plot for the histograms of a workspace\"\"\"\n",
    "    workspace = mtd[str(input_workspace)]\n",
    "    number_histograms = workspace.getNumberHistograms()\n",
    "    if len(legend) != number_histograms:\n",
    "        legend = [str(i) for i in range(number_histograms)]\n",
    "    if len(linewidths) != number_histograms:\n",
    "        linewidths = [1] * number_histograms\n",
    "    fig, ax = plt.subplots(subplot_kw={'projection':'mantid'})\n",
    "    for workspace_index in range(number_histograms):\n",
    "        ax.plot(workspace, wkspIndex=workspace_index, label=legend[workspace_index],\n",
    "                linewidth=linewidths[workspace_index])\n",
    "    ax.legend()\n",
    "    ax.set_xlabel(xlabel)\n",
    "    ax.set_ylabel(ylabel)\n",
    "    ax.set_title(title)\n",
    "    ax.tick_params(axis='x', direction='in')\n",
    "    ax.tick_params(axis='y', direction='out')\n",
    "    ax.grid(True)\n",
    "    fig.show()\n",
    "\n",
    "def linear_density(workspace):\n",
    "    r\"\"\"Tube total intensity per non-masked pixel and per unit length of tube width\"\"\"\n",
    "    collection = TubeCollection(workspace, 'detector1').sorted(view='fbfb')\n",
    "    intensities = np.array([np.sum(tube.readY) for tube in collection])\n",
    "    widths = np.array([tube.width for tube in collection])\n",
    "    number_pixels_not_masked = np.array([np.sum(~tube.isMasked) for tube in collection])\n",
    "    return list(intensities / (number_pixels_not_masked * widths))"
   ]
  },
  {
   "cell_type": "markdown",
   "metadata": {},
   "source": [
    "    We apply the barscan calibration, and the tube width calibration that we just saved"
   ]
  },
  {
   "cell_type": "code",
   "execution_count": null,
   "metadata": {},
   "outputs": [],
   "source": [
    "from drtsans.mono.gpsans import apply_calibrations\n",
    "# apply bar scan and tube width calibrations\n",
    "apply_calibrations('flood_workspace', output_workspace='flood_workspace_calibrated')\n",
    "plot_workspace('flood_workspace_calibrated', axes_mode='xy')"
   ]
  },
  {
   "cell_type": "markdown",
   "metadata": {},
   "source": [
    "We store both linear densities in a workspace, and then we'll use matplotlib to plot both densities"
   ]
  },
  {
   "cell_type": "code",
   "execution_count": null,
   "metadata": {},
   "outputs": [],
   "source": [
    "from mantid.simpleapi import CreateWorkspace\n",
    "from mantid.api import mtd\n",
    "\n",
    "uncalibrated_densities = linear_density('flood_workspace')\n",
    "calibrated_densities = linear_density('flood_workspace_calibrated')\n",
    "\n",
    "number_tubes = len(uncalibrated_densities)\n",
    "CreateWorkspace(DataX=range(number_tubes),\n",
    "                DataY=np.array([uncalibrated_densities, calibrated_densities]),\n",
    "                NSpec=2,   # two histograms\n",
    "                Outputworkspace='linear_densities')\n",
    "plot_histograms('linear_densities',\n",
    "                legend=['no calibration', 'calibrated'],\n",
    "                xlabel='Tube Index', ylabel='Intensity', linewidths=[3, 1])"
   ]
  },
  {
   "cell_type": "markdown",
   "metadata": {},
   "source": [
    "The oslillating intensities in the linear densities have been suppresed for most tubes, indicating the calibration is working."
   ]
  },
  {
   "cell_type": "markdown",
   "metadata": {},
   "source": [
    "<h3>Loading and Applying a Pixel Calibration (Barscan plus Tube-Width)</h3>\n",
    "\n",
    "Relevant function is [apply_calibrations](http://docs.drt-sans.ornl.gov/drtsans/pixel_calibration.html#drtsans.pixel_calibration.apply_calibrations), which will search for <code>BARSCAN</code> and <code>TUBEWIDTH</code> calibrations appropriate to the target run"
   ]
  },
  {
   "cell_type": "code",
   "execution_count": null,
   "metadata": {},
   "outputs": [],
   "source": [
    "import time\n",
    "from mantid.simpleapi import LoadEventNexus\n",
    "from drtsans.mono.gpsans import apply_calibrations\n",
    "\n",
    "#\n",
    "# \"plot_workspace\" is a utility function, which we will use a couple of times\n",
    "#\n",
    "from drtsans.mono.gpsans import plot_detector\n",
    "def plot_workspace(input_workspace, axes_mode='tube-pixel'):\n",
    "    return plot_detector(input_workspace, backend='mpl',axes_mode=axes_mode, imshow_kwargs={})"
   ]
  },
  {
   "cell_type": "code",
   "execution_count": null,
   "metadata": {},
   "outputs": [],
   "source": [
    "LoadEventNexus(Filename='/HFIR/CG2/IPTS-23801/nexus/CG2_10502.nxs.h5', OutputWorkspace='workspace')\n",
    "HFIRSANS2Wavelength(InputWorkspace='flood_run', OutputWorkspace='workspace')\n",
    "plot_workspace('workspace', axes_mode='xy')"
   ]
  },
  {
   "cell_type": "code",
   "execution_count": null,
   "metadata": {},
   "outputs": [],
   "source": [
    "apply_calibrations('workspace')\n",
    "plot_workspace('workspace', axes_mode='xy')"
   ]
  },
  {
   "cell_type": "markdown",
   "metadata": {},
   "source": [
    "We can see when the BARSCAN calibration was taken, and the time when the input data was taken. For this we use function [load_calibration](http://docs.drt-sans.ornl.gov/drtsans/pixel_calibration.html#drtsans.pixel_calibration.load_calibration) and function <code>day_stamp</code>."
   ]
  },
  {
   "cell_type": "code",
   "execution_count": null,
   "metadata": {},
   "outputs": [],
   "source": [
    "from drtsans.mono.gpsans import load_calibration, day_stamp\n",
    "calibration = load_calibration('workspace', 'BARSCAN')\n",
    "print('BARSCAN taken on', calibration.daystamp)\n",
    "print('Input data taken on ', day_stamp('workspace'))"
   ]
  },
  {
   "cell_type": "code",
   "execution_count": null,
   "metadata": {},
   "outputs": [],
   "source": []
  }
 ],
 "metadata": {
  "kernelspec": {
   "display_name": "Python 3",
   "language": "python",
   "name": "python3"
  },
  "language_info": {
   "codemirror_mode": {
    "name": "ipython",
    "version": 3
   },
   "file_extension": ".py",
   "mimetype": "text/x-python",
   "name": "python",
   "nbconvert_exporter": "python",
   "pygments_lexer": "ipython3",
   "version": "3.6.9"
  },
  "toc": {
   "base_numbering": 1,
   "nav_menu": {},
   "number_sections": true,
   "sideBar": true,
   "skip_h1_title": false,
   "title_cell": "Table of Contents",
   "title_sidebar": "Contents",
   "toc_cell": false,
   "toc_position": {},
   "toc_section_display": true,
   "toc_window_display": false
  }
 },
 "nbformat": 4,
 "nbformat_minor": 2
}
