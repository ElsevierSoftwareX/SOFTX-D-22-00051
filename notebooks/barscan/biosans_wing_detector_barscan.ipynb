{
 "cells": [
  {
   "cell_type": "markdown",
   "metadata": {},
   "source": [
    "<h3>General Imports</h3>"
   ]
  },
  {
   "cell_type": "code",
   "execution_count": null,
   "metadata": {},
   "outputs": [],
   "source": [
    "import os\n",
    "import sys\n",
    "import time\n",
    "\n",
    "# Mantid imports\n",
    "from mantid.simpleapi import LoadEventNexus\n",
    "\n",
    "# drtsans imports\n",
    "from drtsans.pixel_calibration import calculate_barscan_calibration, load_calibration, as_intensities"
   ]
  },
  {
   "cell_type": "code",
   "execution_count": null,
   "metadata": {},
   "outputs": [],
   "source": [
    "# \"plot_wing_detector\" is a utility plotting function that we will use a couple of times\n",
    "%matplotlib notebook\n",
    "from drtsans.plots import plot_detector\n",
    "def plot_wing_detector(input_workspace, axes_mode='tube-pixel', panel_name='wing_detector'):\n",
    "    return plot_detector(input_workspace, backend='mpl',axes_mode=axes_mode,\n",
    "                         panel_name=panel_name, imshow_kwargs={})"
   ]
  },
  {
   "cell_type": "markdown",
   "metadata": {},
   "source": [
    "<h3>Dataset</h3>\n",
    "\n",
    "The barscan are a group of files for BIOSANS wing detector.\n",
    "\n",
    "We assume formula $y = dcal - 565$ to translate the position of the bar ($dcal$) stored in the metadata of the runs, and the position of the bar in the frame of reference of the sample ($y$)."
   ]
  },
  {
   "cell_type": "code",
   "execution_count": null,
   "metadata": {},
   "outputs": [],
   "source": [
    "data_dir = '/HFIR/CG3/IPTS-23782/nexus/'\n",
    "first_run, last_run = 838, 953\n",
    "detector_array = 'wing_detector'  # calibration for the wing detector\n",
    "formula = '{y} - 565'  # translate from scan log value to Y-coordinate in the sample's reference frame.\n",
    "# Gather all file paths into a python list\n",
    "barscan_files = [os.path.join(data_dir, f'CG3_{run}.nxs.h5') for run in range(first_run, 1 + last_run)]"
   ]
  },
  {
   "cell_type": "markdown",
   "metadata": {},
   "source": [
    "<h3>Caveats</h3>\n",
    "As it turns out, the bar is not covering the last tube. We verify this by plotting the intensities on the wing detector for the middle scan.\n",
    "\n",
    "We have created a **mask file** whereby we mask the last tube. This flags this tube as faulty when performing the barscan calculations. **Average** pixel positions and heights will be used to estimate the calibration of this faulty tube."
   ]
  },
  {
   "cell_type": "code",
   "execution_count": null,
   "metadata": {},
   "outputs": [],
   "source": [
    "middle_scan_index = int((last_run - first_run) / 2)\n",
    "LoadEventNexus(barscan_files[middle_scan_index], OutputWorkspace='middle_scan')\n",
    "plot_wing_detector('middle_scan')\n",
    "mask_file = '/home/jbq/repositories/sans-backend/sans-backend2/notebooks/barscan/biosans_mask_bank88_tube4.xml'"
   ]
  },
  {
   "cell_type": "markdown",
   "metadata": {},
   "source": [
    "<h3>Calibration</h3>\n",
    "We carry out the calibration. There are 116 files but we use one third of them (see statement <code>barscan_files[::3]</code> in the following cell).\n",
    "\n",
    "Calculation of the calibration is slow, about 5 to 10 minutes. However, calibrations are carried out once or twice in a cycle."
   ]
  },
  {
   "cell_type": "code",
   "execution_count": null,
   "metadata": {},
   "outputs": [],
   "source": [
    "# Carry out the calibration\n",
    "start_time = time.time()\n",
    "calibration = calculate_barscan_calibration(barscan_files[::3], component=detector_array,\n",
    "                                            formula=formula, mask=mask_file)\n",
    "print('Calibration took ', int((time.time() - start_time) / 60), 'minutes')"
   ]
  },
  {
   "cell_type": "markdown",
   "metadata": {},
   "source": [
    "<h3>Saving the Calibration</h3>\n",
    "There are default database files for each instrument when saving a calibration. For BIOSANS is <code>/HFIR/CG3/shared/calibration/pixel_calibration.json</code>. We don't want to mess with the official database so we save this calibration to a temporary database file.\n",
    "We use argument overwrite=True in case we run the notebook more than once. Then we will overwrite the existing \n",
    "calibration entry in the database"
   ]
  },
  {
   "cell_type": "code",
   "execution_count": null,
   "metadata": {},
   "outputs": [],
   "source": [
    "calibration.save(database='/HFIR/CG3/shared/tmp/calibration.json', overwrite=True)"
   ]
  },
  {
   "cell_type": "markdown",
   "metadata": {},
   "source": [
    "<h3>Applying a Saved Calibration</h3>\n",
    "Next we use one of the barscan files as the target for our recently saved calibration.\n",
    "Notice that we are applying the calibration to our input workspace and saving the result to an output workspace. If you want to <b>overwrite</b> the input workspace, then omit the <code>output_workspace</code> argument."
   ]
  },
  {
   "cell_type": "code",
   "execution_count": null,
   "metadata": {
    "scrolled": true
   },
   "outputs": [],
   "source": [
    "LoadEventNexus(os.path.join(data_dir, f'CG3_895.nxs.h5'), OutputWorkspace='input_workspace')\n",
    "saved_calibration = load_calibration('input_workspace', 'BARSCAN', component='wing_detector',\n",
    "                                     database='/HFIR/CG3/shared/tmp/calibration.json')\n",
    "start_time = time.time()\n",
    "saved_calibration.apply('input_workspace', output_workspace='output_workspace')\n",
    "print('Applying the calibration took ', time.time() - start_time, 'seconds')"
   ]
  },
  {
   "cell_type": "markdown",
   "metadata": {},
   "source": [
    "<h3>Visualizing the Effects of the Calibration</h3>\n",
    "We plot intensities on the wing detector before and after the calibration. Notice we use argument <code>axes_mode='xy'</code> that instruct <code>plot_wing_detector</code> to plot intensities versus $X$ and $Y$ coordinates, instead of the default plotting. The default plotting is versus tube index and pixel index.\n",
    "\n",
    "Notice: generating the plots versus $X$ and $Y$ will take about a minute"
   ]
  },
  {
   "cell_type": "code",
   "execution_count": null,
   "metadata": {},
   "outputs": [],
   "source": [
    "plot_wing_detector('input_workspace', axes_mode='xy')  # before calibration\n",
    "plot_wing_detector('output_workspace', axes_mode='xy')  # after calibration"
   ]
  },
  {
   "cell_type": "markdown",
   "metadata": {},
   "source": [
    "If the calibration has worked, the bar should appear more **levelled** after the calibration.\n",
    "\n",
    "Also notice that all values of $X$ are negative, as the wing detector is standing on the negative side of the X-axis"
   ]
  },
  {
   "cell_type": "markdown",
   "metadata": {},
   "source": [
    "<h3>Viewing the Calibrated Positions and Heights</h3>\n",
    "We can retrieve the pixel positions and heights from the calibrated <code>output_workspace</code>. The cell below will take for each pixel its vertical position and store this value as the intensity value in workspace <code>views.positions</code>. Later we can color plot this workspace to view the assigned positions to each pixel. The same process is done for pixel heights.\n",
    "\n",
    "Again, extracting the ~50K positions and heights takes time."
   ]
  },
  {
   "cell_type": "code",
   "execution_count": null,
   "metadata": {},
   "outputs": [],
   "source": [
    "views = as_intensities('output_workspace', component='wing_detector')\n",
    "plot_wing_detector(views.positions)\n",
    "plot_wing_detector(views.heights)"
   ]
  }
 ],
 "metadata": {
  "kernelspec": {
   "display_name": "Python 3",
   "language": "python",
   "name": "python3"
  },
  "language_info": {
   "codemirror_mode": {
    "name": "ipython",
    "version": 3
   },
   "file_extension": ".py",
   "mimetype": "text/x-python",
   "name": "python",
   "nbconvert_exporter": "python",
   "pygments_lexer": "ipython3",
   "version": "3.6.9"
  },
  "toc": {
   "base_numbering": 1,
   "nav_menu": {},
   "number_sections": true,
   "sideBar": true,
   "skip_h1_title": false,
   "title_cell": "Table of Contents",
   "title_sidebar": "Contents",
   "toc_cell": false,
   "toc_position": {},
   "toc_section_display": true,
   "toc_window_display": false
  },
  "pycharm": {
   "stem_cell": {
    "cell_type": "raw",
    "source": [],
    "metadata": {
     "collapsed": false
    }
   }
  }
 },
 "nbformat": 4,
 "nbformat_minor": 2
}