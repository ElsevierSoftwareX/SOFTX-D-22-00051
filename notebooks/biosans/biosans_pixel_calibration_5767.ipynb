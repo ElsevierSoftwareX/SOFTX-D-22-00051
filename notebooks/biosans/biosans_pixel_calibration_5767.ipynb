{
 "cells": [
  {
   "cell_type": "markdown",
   "metadata": {},
   "source": [
    "<h3> Create and Save a Barscan Calibration for Main and Wing detector</h3>\n",
    "\n",
    "Most relevant function here is [calculate_barscan_calibration](http://docs.drt-sans.ornl.gov/drtsans/pixel_calibration.html#drtsans.pixel_calibration.calculate_barscan_calibration).\n",
    "\n",
    "The output of <code>calculate_barscan_calibration</code> outputs an object containing two parts: a <b>metadata</b> (instrument name, day stamp, name of the double-detector-array), and the proper calibration data, contained in a Mantid <b>table</b> object."
   ]
  },
  {
   "cell_type": "code",
   "execution_count": null,
   "metadata": {},
   "outputs": [],
   "source": [
    "from copy import deepcopy\n",
    "import numpy as np\n",
    "import os\n",
    "import time\n",
    "from mantid.simpleapi import LoadEventNexus, LoadNexus, SaveNexus\n",
    "from drtsans.mono.biosans import calculate_barscan_calibration, as_intensities, plot_detector\n",
    "from drtsans.pixel_calibration import Table\n",
    "\n",
    "#\n",
    "# \"plot_main_detector\" and \"plot_wing_detector\" are used to plot both detectors separately\n",
    "#\n",
    "%matplotlib inline\n",
    "from matplotlib import pyplot as plt\n",
    "def plot_main_detector(input_workspace, axes_mode='xy', panel_name='detector1', title='detector1'):\n",
    "    return plot_detector(input_workspace, backend='mpl',axes_mode=axes_mode,\n",
    "                         panel_name=panel_name, imshow_kwargs={})\n",
    "def plot_wing_detector(input_workspace, axes_mode='xy', panel_name='wing_detector', title='wing_detector'):\n",
    "    return plot_detector(input_workspace, backend='mpl',axes_mode=axes_mode,\n",
    "                         panel_name=panel_name, imshow_kwargs={})\n",
    "def plot_workspace(input_workspace, axes_mode='xy'):\n",
    "    return plot_detector(input_workspace, backend='mpl',axes_mode=axes_mode, imshow_kwargs={})"
   ]
  },
  {
   "cell_type": "markdown",
   "metadata": {},
   "source": [
    "The barscan files we'll use are runs 5767 to 5881.\n",
    "\n",
    "To save memory, I <b>integrated all events</b> in a given pixel into a single scalar representing the total number of counts. The processed data is saved onto files which are much quicker to load when calculating the calibration, and have an appropriate embedded file.\n",
    "\n",
    "The script that I used for this task is commented below. It takes a long time to run and it's not necessary to run it again."
   ]
  },
  {
   "cell_type": "code",
   "execution_count": null,
   "metadata": {},
   "outputs": [],
   "source": [
    "\"\"\"\n",
    "import os\n",
    "from mantid.simpleapi import LoadEventNexus, HFIRSANS2Wavelength, SaveNexus\n",
    "data_dir = '/HFIR/CG3/IPTS-24666/nexus/'\n",
    "first_run, last_run = 5767, 5881\n",
    "target_dir = '/HFIR/CG3/shared/sans-backend/data/new/ornl/sans/hfir/biosans/pixel_calibration/runs_5767_5881'\n",
    "os.makedirs(target_dir, exist_ok=True)\n",
    "\n",
    "remaining = 1 + last_run - first_run  # remaining files to process\n",
    "for run in range(first_run, 1 + last_run):\n",
    "    print('remaining files to process = ', remaining)\n",
    "    file_path = os.path.join(data_dir, f'CG3_{run}.nxs.h5')\n",
    "    LoadEventNexus(file_path, OutputWorkspace='scan', LoadNexusInstrumentXML=False)\n",
    "    HFIRSANS2Wavelength(InputWorkspace='scan', OutputWorkspace='scan')\n",
    "    outfile_path = os.path.join(target_dir, f'CG3_{run}.nxs')\n",
    "    SaveNexus('scan', Filename=outfile_path)\n",
    "    remaining -= 1\n",
    "\"\"\""
   ]
  },
  {
   "cell_type": "code",
   "execution_count": null,
   "metadata": {},
   "outputs": [],
   "source": [
    "data_dir = '/HFIR/CG3/shared/sans-backend/data/new/ornl/sans/hfir/biosans/pixel_calibration/runs_5767_5881'\n",
    "first_run, last_run = 5767, 5881\n",
    "barscan_files = [os.path.join(data_dir, f'CG3_{run}.nxs') for run in range(first_run, 1 + last_run)]\n",
    "\n",
    "# Calibrating the main detetor requires all files, but the wing detector doesn't need the last 10 files\n",
    "barscan_main_files = barscan_files\n",
    "barscan_wing_files = barscan_files[: -10]"
   ]
  },
  {
   "cell_type": "markdown",
   "metadata": {},
   "source": [
    "### Loading and Plotting one of the Scans\n",
    "Let's plot the middle scan, run 5824, which is index 57 in the <code>barscan_files</code> list."
   ]
  },
  {
   "cell_type": "code",
   "execution_count": null,
   "metadata": {},
   "outputs": [],
   "source": [
    "LoadNexus(barscan_files[57], OutputWorkspace='CG3_5824')\n",
    "plot_main_detector('CG3_5824')\n",
    "plot_wing_detector('CG3_5824')"
   ]
  },
  {
   "cell_type": "markdown",
   "metadata": {},
   "source": [
    "### Masking  \n",
    "\n",
    "Notice the <b>last tube of the wing detector</b> is partically covered by the bar. Thus, we will <b>mask this tube</b> when calibrating the wing detector. We alread have a mask file for this purpose.\n",
    "\n",
    "Now we carry out the calibration of the **main** and **wing** detectors. Each detector array requires its own calibration.\n",
    "\n",
    "### Position of the Bar\n",
    "\n",
    "We require formulas for the position of the bar:\n",
    "- **main** `formula='{y} - 565'`\n",
    "- **wing**: `formula='{y} - 565'`\n",
    "\n",
    "Here, `{y}` is the value of log entry `dcal_Reaback` for the main detector and `ww_dcal_Readback` for the wing detector. The value is maximal when the bar is at the top of the detector, then decreases as we move the bar down. It is recommended to check the value of `dcal_Readback` when the bar is at the top of the detector to confirm the value corresponds to the maximal value in the scan series.\n",
    "\n",
    "We will later assess the validity of these formulas by analyzing the results of the calibration\n",
    "\n",
    "### Calibration Function\n",
    "\n",
    "We use function [calculate_barscan_calibration](https://scse.ornl.gov/docs/drt/sans/drtsans/pixel_calibration.html#drtsans.pixel_calibration.calculate_barscan_calibration)"
   ]
  },
  {
   "cell_type": "code",
   "execution_count": null,
   "metadata": {},
   "outputs": [],
   "source": [
    "# CALIBRATE THE MAIN DECTECTOR\n",
    "start_time = time.time()\n",
    "calibration_main = calculate_barscan_calibration(barscan_main_files, component='detector1',\n",
    "                                                 bar_position_log='dcal_Readback', formula='{y} - 565')\n",
    "print('Calibration of the main detector array took ', int((time.time() - start_time) / 60), 'minutes')"
   ]
  },
  {
   "cell_type": "code",
   "execution_count": null,
   "metadata": {},
   "outputs": [],
   "source": [
    "# CALIBRATE THE WING DETECTOR\n",
    "mask_file = '/HFIR/CG3/shared/sans-backend/data/new/ornl/sans/hfir/biosans/pixel_calibration/runs_5767_5881/biosans_mask_bank88_tube4.xml'\n",
    "start_time = time.time()\n",
    "calibration_wing = calculate_barscan_calibration(barscan_wing_files, component='wing_detector',\n",
    "                                                 bar_position_log='ww_dcal_Readback', formula='{y} - 565',\n",
    "                                                 mask=mask_file)\n",
    "print('Calibration of the wing detector array took ', int((time.time() - start_time) / 60), 'minutes')"
   ]
  },
  {
   "cell_type": "code",
   "execution_count": null,
   "metadata": {},
   "outputs": [],
   "source": [
    "# QUICK SANITY CHECK\n",
    "print('Pixel Heights (meters):')\n",
    "print(f'    in Main Detector: min = {min(calibration_main.heights):.4f}, max = {max(calibration_main.heights):.4f}')\n",
    "print(f'    in Wing Detector: min = {min(calibration_wing.heights):.4f}, max = {min(calibration_wing.heights):.4f}')\n",
    "\n",
    "print('Pixel Vertical Positions (meters):')\n",
    "print(f'    in Main Detector: min = {min(calibration_main.positions):.4f}, max = {max(calibration_main.positions):.4f}')\n",
    "print(f'    in Wing Detector: min = {min(calibration_wing.positions):.4f}, max = {min(calibration_wing.positions):.4f}')"
   ]
  },
  {
   "cell_type": "markdown",
   "metadata": {},
   "source": [
    "### Visualizing the Calibrations\n",
    "\n",
    "We first apply the calibrations to the file we loaded previously into workspace `CG3_5824`. We use method [apply]() to generate a calibrated workspace `CG3_5824_calibrated`"
   ]
  },
  {
   "cell_type": "code",
   "execution_count": null,
   "metadata": {},
   "outputs": [],
   "source": [
    "calibration_main.apply('CG3_5824', output_workspace='CG3_5824_calibrated')\n",
    "calibration_wing.apply('CG3_5824_calibrated')"
   ]
  },
  {
   "cell_type": "markdown",
   "metadata": {},
   "source": [
    "Then we generate \"views\" of the calibrated pixels with function [as_intensities](https://scse.ornl.gov/docs/drt/sans/drtsans/pixel_calibration.html#drtsans.pixel_calibration.as_intensities). The views are two new workspaces: `views.heights` and `views.positions`. The intensities at the detector pixels of `views.heights` correspond to the heights of the detector. Thus, we can plot these \"intensities\" in a 2D plot of the main and wing detector array."
   ]
  },
  {
   "cell_type": "code",
   "execution_count": null,
   "metadata": {},
   "outputs": [],
   "source": [
    "views = as_intensities('CG3_5824_calibrated', component=['detector1', 'wing_detector'])"
   ]
  },
  {
   "cell_type": "markdown",
   "metadata": {},
   "source": [
    "The views can be plotted for each detector. We plot pixel **heights** and **positions**"
   ]
  },
  {
   "cell_type": "code",
   "execution_count": null,
   "metadata": {},
   "outputs": [],
   "source": [
    "plot_main_detector(views.heights, axes_mode='tube-pixel')\n",
    "plot_wing_detector(views.heights, axes_mode='tube-pixel')"
   ]
  },
  {
   "cell_type": "code",
   "execution_count": null,
   "metadata": {},
   "outputs": [],
   "source": [
    "plot_main_detector(views.positions, axes_mode='tube-pixel')\n",
    "plot_wing_detector(views.positions, axes_mode='tube-pixel')"
   ]
  },
  {
   "cell_type": "markdown",
   "metadata": {},
   "source": [
    "Finally, we save these views as worskpaces which can be loaded into Mantid and visualized with the Instrument Viewer"
   ]
  },
  {
   "cell_type": "code",
   "execution_count": null,
   "metadata": {},
   "outputs": [],
   "source": [
    "SaveNexus(views.heights, '/tmp/pixel_heights.nxs')\n",
    "SaveNexus(views.positions, '/tmp/pixel_positions.nxs')"
   ]
  },
  {
   "cell_type": "markdown",
   "metadata": {},
   "source": [
    "### Analyzing the Calibrations\n",
    "\n",
    "We first compare the middle barscan run before and after we apply the calibration"
   ]
  },
  {
   "cell_type": "code",
   "execution_count": null,
   "metadata": {},
   "outputs": [],
   "source": [
    "plot_main_detector('CG3_5824')  # before calibration\n",
    "plot_main_detector('CG3_5824_calibrated')"
   ]
  },
  {
   "cell_type": "markdown",
   "metadata": {},
   "source": [
    "Two observations:\n",
    "\n",
    "1. The vertical position of the center of mass for the detector after calibration seem to lie on positive `Y` values. That would indicate that `595` was not the correct value for the position of the bar formula='{y} - 565'.\n",
    "2. After calibration, the position of the top and bottom pixels seem to increase with coordinate `X`, which may indicate a slightly tilt of the bottom edge of the bar"
   ]
  },
  {
   "cell_type": "markdown",
   "metadata": {},
   "source": [
    "### Location of the Vertical Position of the Center of Mass\n"
   ]
  },
  {
   "cell_type": "code",
   "execution_count": null,
   "metadata": {},
   "outputs": [],
   "source": [
    "cm = 1000 * np.mean(calibration_main.positions)\n",
    "print('Vertical position of the Center of Mass = ', cm, 'mili meters')\n",
    "print('New offset = ', 565 + cm / 2, 'mili meters')"
   ]
  },
  {
   "cell_type": "markdown",
   "metadata": {},
   "source": [
    "### Analyzing the possible bar tilt\n",
    "\n",
    "We'll look at the variation in the position of the top and bottom pixels as a function of tube index. We perform a linear regression of this variation."
   ]
  },
  {
   "cell_type": "code",
   "execution_count": null,
   "metadata": {},
   "outputs": [],
   "source": [
    "def report_tilt(pixel_positions):\n",
    "\n",
    "    # Create a 2D array of pixel heights, dimensions are (number_tubes x pixels_in_tube)\n",
    "    pixel_in_tube_count = 256\n",
    "    tube_count = int(len(pixel_positions) / pixel_in_tube_count)\n",
    "    positions = np.array(pixel_positions).reshape((tube_count, pixel_in_tube_count))\n",
    "\n",
    "    def fit(tube_tip_positions):\n",
    "        r\"\"\"This function will fit the bottom or top pixels against the tube index\"\"\"\n",
    "        tube_indexes = np.arange(tube_count)  # heights as function of tube index\n",
    "        coeffs = np.polyfit(tube_indexes, tube_tip_positions, 1)\n",
    "        fitted = np.poly1d(coeffs)(tube_indexes)  # fitted positions of the tube tip\n",
    "        return coeffs, fitted\n",
    "\n",
    "    for location, tip_positions in (['top', positions[:, -1]], ['bottom', positions[:, 0]]):\n",
    "        coeffs, fitted = fit(tip_positions)  # fit against tube index\n",
    "        # Plot the raw positions and the fitted positions\n",
    "        fig = plt.figure()\n",
    "        ax = fig.add_subplot(1, 1, 1)\n",
    "        ax.plot(np.arange(tube_count), tip_positions)\n",
    "        ax.plot(np.arange(tube_count), fitted)\n",
    "        ax.set_title(f'{location} pixels')\n",
    "        # Print a few representative properties of the tilt\n",
    "        print(location, ' pixels:')\n",
    "        print(f'    slope = {1000 * coeffs[0]:.3f} mili-meters / tube')\n",
    "        print(f'    position difference between last and first tube = {1000 * (fitted[-1] - fitted[0]):.3f} mili-meters')\n",
    "\n",
    "report_tilt(calibration_main.positions)"
   ]
  },
  {
   "cell_type": "markdown",
   "metadata": {},
   "source": [
    "### Removing the Bar Tilt and Centering the Detector\n",
    "\n",
    "Thinking of the fitted positions for the bottom and top pixels, we can think of the detector array as a deformed rectangle (angles between sides different than 90 degrees), which must be transformed into a rectangle with squared angles (angles between sides equal to 90 degrees).\n",
    "\n",
    "We take the tube in the middle of the main detector array as our reference. We will adjust every other tube so that for every tube, its top and bottom *fitted* pixel positions will coincide with the top and bottom *fitted* positions of the middle tube.\n",
    "\n",
    "Also, since top and bottom fitted positions have a different variation with tube index, the fitted tube lenght changes sligtly with tube index. Thus, we will rescale the fitted tube length to coincide with the fitted tube length of the middle tube. This amounts to a rescaling of pixel heights.\n",
    "\n",
    "Finally, after removing the tilt we displace the detector so that the center of mass lies at `Y=0`."
   ]
  },
  {
   "cell_type": "code",
   "execution_count": null,
   "metadata": {},
   "outputs": [],
   "source": [
    "def untilt_and_center(calibration):\n",
    "    # Create a 2D array of pixel heights, dimensions are (number_tubes x pixels_in_tube)\n",
    "    pixel_in_tube_count = 256\n",
    "    tube_count = int(len(calibration.positions) / pixel_in_tube_count)\n",
    "    positions = np.array(calibration.positions).reshape((tube_count, pixel_in_tube_count))\n",
    "    heights = np.array(calibration.heights).reshape((tube_count, pixel_in_tube_count))\n",
    "\n",
    "    def fit(tube_tip_positions):\n",
    "        r\"\"\"This function will fit the bottom or top pixels against the tube index\"\"\"\n",
    "        tube_indexes = np.arange(tube_count)  # heights as function of tube index\n",
    "        coeffs = np.polyfit(tube_indexes, tube_tip_positions, 1)\n",
    "        fitted = np.poly1d(coeffs)(tube_indexes)  # fitted positions of the tube tip\n",
    "        return coeffs, fitted\n",
    "\n",
    "    _, fitted_top = fit(positions[:, -1])  # fitted positions of the tube tops\n",
    "    _, fitted_bottom = fit(positions[:, 0])  # fitted positions of the tube bottom\n",
    "    # We'll adjust the positions of the tubes to comply with the middle tube\n",
    "    tube_reference_index = int(tube_count / 2)  # tube in the middle of the detector\n",
    "    tube_length_reference = fitted_top[tube_reference_index] - fitted_bottom[tube_reference_index]\n",
    "    # shifts_top indicate the difference in fitted positions for the tube tops with respect to the fitted positions\n",
    "    # for the top of the middle tube\n",
    "    shifts_top = fitted_top[tube_reference_index] - fitted_top\n",
    "    shifts_bottom = fitted_bottom[tube_reference_index] - fitted_bottom\n",
    "    # Calculate now the shifts for every single pixel, going tube by tube\n",
    "    pixel_indexes = np.arange(pixel_in_tube_count)\n",
    "    shifts = list()\n",
    "    scalings = list()\n",
    "    for tube_index in range(tube_count):\n",
    "        a, b = shifts_bottom[tube_index], shifts_top[tube_index]\n",
    "        shifts_in_tube =  a + (b - a) * pixel_indexes / pixel_in_tube_count\n",
    "        shifts.append(shifts_in_tube)\n",
    "        tube_length = fitted_top[tube_index] - fitted_bottom[tube_index]\n",
    "        scalings_in_tube = [tube_length_reference / tube_length] * pixel_in_tube_count\n",
    "        scalings.append(scalings_in_tube)\n",
    "\n",
    "    positions_new = positions + np.array(shifts)\n",
    "    heights_new = heights * np.array(scalings)\n",
    "\n",
    "    # Set CM at y=0\n",
    "    positions_new -= np.mean(positions.ravel())\n",
    "\n",
    "    # retrieve components from the main calibration in order to construct a new calibration\n",
    "    metadata = deepcopy(calibration.metadata)\n",
    "    detector_ids = deepcopy(calibration.detector_ids)\n",
    "    recalibration = Table(metadata,\n",
    "                          detector_ids=detector_ids,\n",
    "                          positions=positions_new.ravel(),\n",
    "                          heights=heights_new.ravel())\n",
    "    return recalibration\n",
    "\n",
    "calibration_main = untilt_and_center(calibration_main)"
   ]
  },
  {
   "cell_type": "markdown",
   "metadata": {},
   "source": [
    "Applying the adjusted calibration should create a centered detector with no dependence on tube index."
   ]
  },
  {
   "cell_type": "code",
   "execution_count": null,
   "metadata": {},
   "outputs": [],
   "source": [
    "calibration_main.apply('CG3_5824', output_workspace='CG3_5824_recalibrated')\n",
    "plot_main_detector('CG3_5824')  # before calibration\n",
    "plot_main_detector('CG3_5824_calibrated')  # calibrated, not adjusted\n",
    "plot_main_detector('CG3_5824_recalibrated')  # calibrated and adjusted"
   ]
  },
  {
   "cell_type": "markdown",
   "metadata": {},
   "source": [
    "We verify the top and bottom pixels of the recalibration do not have a dependence on tube index"
   ]
  },
  {
   "cell_type": "code",
   "execution_count": null,
   "metadata": {},
   "outputs": [],
   "source": [
    "report_tilt(calibration_main.positions)"
   ]
  },
  {
   "cell_type": "markdown",
   "metadata": {},
   "source": [
    "We run a similar analysis on the wing_detector"
   ]
  },
  {
   "cell_type": "code",
   "execution_count": null,
   "metadata": {},
   "outputs": [],
   "source": [
    "calibration_wing = untilt_and_center(calibration_wing)  # adjust the wing calibration\n",
    "calibration_wing.apply('CG3_5824_recalibrated')  # apply it to our recalibrated workspace"
   ]
  },
  {
   "cell_type": "code",
   "execution_count": null,
   "metadata": {},
   "outputs": [],
   "source": [
    "plot_wing_detector('CG3_5824')  # before calibration\n",
    "plot_wing_detector('CG3_5824_calibrated')  # after calibration\n",
    "plot_wing_detector('CG3_5824_recalibrated')  # calibrated and adjusted"
   ]
  },
  {
   "cell_type": "markdown",
   "metadata": {},
   "source": [
    "<h5>Calibration objects are saved to a database as two separate pieces:</h5>\n",
    "\n",
    "- metadata (instrument name, day stamp, name of the double-detector-array) is save to a JSON file.  \n",
    "- data (a table workspace) is saved to a Nexus file with SaveNexus.  \n",
    "\n",
    "There's a default database for every instrument. The BIOSANS location for the metadata JSON file:\n",
    "\n",
    "- BIOSANS: <b>/HFIR/CG3/shared/calibration/pixel_calibration.json</b>\n",
    "\n",
    "Data tables are saved under `tables/` subdirectory:\n",
    "\n",
    "- BIOSANS: <b>/HFIR/CG3/shared/calibration/tables</b>\n",
    "\n",
    "<h5>Calibration objects have method \"<b>save</b>\" to save itself to the the database. The full signature of this method:</h5>\n",
    "\n",
    "    def save(self, database=None, tablefile=None, overwrite=False):\n",
    "        r\"\"\"\n",
    "        Save the calibration metadata in a JSON file, and the calibration table workspace in a Nexus file.\n",
    "\n",
    "        Parameters\n",
    "        ----------\n",
    "        database: str\n",
    "            Path to the JSON file where the ```metadata``` dictionary will be appended. If :py:obj:`None`,\n",
    "            then the appropriate default file from ~drtsans.pixel_calibration.database_file is used.\n",
    "            Currently, these are the default files:\n",
    "            - BIOSANS, '/HFIR/CG3/shared/calibration/pixel_calibration.json',\n",
    "            - EQSANS, '/SNS/EQSANS/shared/calibration/pixel_calibration.json',\n",
    "            - GPSANS, '/HFIR/CG2/shared/calibration/pixel_calibration.json'\n",
    "        tablefile: str\n",
    "            Path to the Nexus file storing the pixel calibration data. If :py:obj:`None`, then\n",
    "            a composite name is created using the calibration type, instrument, component,\n",
    "            and daystamp. (e.g. \"barscan_biosans_detector1_20200311\"). The file is saved under\n",
    "            subdirectory 'tables', located within the directory of the ```database``` file.\n",
    "            For instance, '/HFIR/CG3/shared/calibration/tables/barscan_biosans_detector1_20200311.nxs'\n",
    "        overwrite: bool\n",
    "            Substitute existing entry with same metadata\n",
    "\n",
    "        Raises\n",
    "        ------\n",
    "        ValueError\n",
    "            If we save a calibration already in the database with option ```overwrite=False```.\n",
    "        \"\"\""
   ]
  },
  {
   "cell_type": "code",
   "execution_count": null,
   "metadata": {},
   "outputs": [],
   "source": [
    "calibration_main.save(overwrite=True)  # save calibration for the main detector\n",
    "calibration_wing.save(overwrite=True)  # save calibration for the main detector"
   ]
  },
  {
   "cell_type": "markdown",
   "metadata": {},
   "source": [
    "<h3>Load and Apply a Barscan Calibration</h3>\n",
    "\n",
    "Most relevant function is [load_calibration](http://docs.drt-sans.ornl.gov/drtsans/pixel_calibration.html#drtsans.pixel_calibration.load_calibration)"
   ]
  },
  {
   "cell_type": "code",
   "execution_count": null,
   "metadata": {},
   "outputs": [],
   "source": [
    "import os\n",
    "from mantid.simpleapi import LoadEventNexus\n",
    "from drtsans.mono.biosans import load_calibration, plot_detector\n",
    "\n",
    "#\n",
    "# \"plot_main_detector\" and \"plot_wing_detector\" are used to plot both detectors separately\n",
    "#\n",
    "%matplotlib inline\n",
    "def plot_main_detector(input_workspace, axes_mode='xy', panel_name='detector1'):\n",
    "    return plot_detector(input_workspace, backend='mpl',axes_mode=axes_mode,\n",
    "                         panel_name=panel_name, imshow_kwargs={})\n",
    "def plot_wing_detector(input_workspace, axes_mode='xy', panel_name='wing_detector'):\n",
    "    return plot_detector(input_workspace, backend='mpl',axes_mode=axes_mode,\n",
    "                         panel_name=panel_name, imshow_kwargs={})\n",
    "def plot_workspace(input_workspace, axes_mode='xy'):\n",
    "    return plot_detector(input_workspace, backend='mpl',axes_mode=axes_mode, imshow_kwargs={})"
   ]
  },
  {
   "cell_type": "markdown",
   "metadata": {},
   "source": [
    "Below we load the run to which we will apply the calibration to run 5824, scan number 57.\n",
    "\n",
    "We take a look by plotting the pixel intensities on both main and wing detectors."
   ]
  },
  {
   "cell_type": "code",
   "execution_count": null,
   "metadata": {},
   "outputs": [],
   "source": [
    "data_file = '/HFIR/CG3/shared/sans-backend/data/new/ornl/sans/hfir/biosans/pixel_calibration/runs_5767_5881/CG3_5824.nxs'\n",
    "LoadNexus(data_file, OutputWorkspace='CG3_5824')\n",
    "plot_workspace('CG3_5824')"
   ]
  },
  {
   "cell_type": "markdown",
   "metadata": {},
   "source": [
    "Loading a calibration with [load_calibration](http://docs.drt-sans.ornl.gov/drtsans/pixel_calibration.html#drtsans.pixel_calibration.load_calibration) requires at least a target workspace and the type of calibration to be loaded. Function <code>load_calibration</code> returns a calibration object.\n",
    "\n",
    "The calibration object has method <b>apply</b> to apply itself into a target workspace. Here's the full documentation for this method:\n",
    "\n",
    "    def apply(self, input_workspace, output_workspace=None):\n",
    "        r\"\"\"\n",
    "        Apply a calibration to an input workspace, and return the calibrated workspace.\n",
    "\n",
    "        Parameters\n",
    "        ----------\n",
    "        input_workspace: str, ~mantid.api.MatrixWorkspace, ~mantid.api.IEventsWorkspace\n",
    "            Workspace to which calibration needs to be applied.\n",
    "        output_workspace: str\n",
    "            Name of the output workspace with calibrated pixels. If :py:obj:`None`, the pixels\n",
    "            of the input workspace will be calibrated and no new workspace is generated.\n",
    "\n",
    "        Returns\n",
    "        -------\n",
    "        ~mantid.api.MatrixWorkspace, ~mantid.api.IEventsWorkspace\n",
    "        \"\"\""
   ]
  },
  {
   "cell_type": "code",
   "execution_count": null,
   "metadata": {},
   "outputs": [],
   "source": [
    "start_time = time.time()\n",
    "from drtsans.mono.biosans import apply_calibrations\n",
    "apply_calibrations('CG3_5824', calibrations='BARSCAN')  # apply only barscan (to main and wing detectors)\n",
    "print(f'Applying the two calibrations took {time.time() - start_time:.1} seconds')"
   ]
  },
  {
   "cell_type": "code",
   "execution_count": null,
   "metadata": {},
   "outputs": [],
   "source": [
    "plot_main_detector('CG3_5824', axes_mode='xy')\n",
    "plot_wing_detector('CG3_5824', axes_mode='xy')"
   ]
  },
  {
   "cell_type": "markdown",
   "metadata": {},
   "source": [
    "<h3>Calculate Tube Width Calibration</h3>\n",
    "\n",
    "Relevant function is [calculate_apparent_tube_width](http://docs.drt-sans.ornl.gov/drtsans/pixel_calibration.html#drtsans.pixel_calibration.calculate_apparent_tube_width)"
   ]
  },
  {
   "cell_type": "code",
   "execution_count": null,
   "metadata": {},
   "outputs": [],
   "source": [
    "import numpy as np\n",
    "import os\n",
    "import time\n",
    "from mantid.simpleapi import LoadNexus\n",
    "from drtsans.mono.biosans import calculate_apparent_tube_width, plot_detector\n",
    "\n",
    "#\n",
    "# \"plot_main_detector\" and \"plot_wing_detector\" are used to plot both detectors separately\n",
    "#\n",
    "%matplotlib inline\n",
    "def plot_main_detector(input_workspace, axes_mode='xy', panel_name='detector1'):\n",
    "    return plot_detector(input_workspace, backend='mpl',axes_mode=axes_mode,\n",
    "                         panel_name=panel_name, imshow_kwargs={})\n",
    "def plot_wing_detector(input_workspace, axes_mode='xy', panel_name='wing_detector'):\n",
    "    return plot_detector(input_workspace, backend='mpl',axes_mode=axes_mode,\n",
    "                         panel_name=panel_name, imshow_kwargs={})\n",
    "def plot_workspace(input_workspace, axes_mode='xy'):\n",
    "    return plot_detector(input_workspace, backend='mpl',axes_mode=axes_mode, imshow_kwargs={})"
   ]
  },
  {
   "cell_type": "markdown",
   "metadata": {},
   "source": [
    "The flood file CG3_5904.nxs.h5 is 8.7GB in size but we only require the total intensity per pixel. We implement the following steps to convert into a simple Mantid MatrixWorkspace:\n",
    "\n",
    "- `LoadEventNexus` to load the events file\n",
    "- `HFIRSANS2Wavelength` to summ all events into a single total count (per pixel)\n",
    "- `SaveNexus` saves the MatrixWorkspace to a file.\n",
    "\n",
    "Here's the script I run in another location. You can copy and paste into a jupyter notebook cell to run it.\n",
    "\n",
    "    from mantid.simpleapi import LoadEventNexus, LoadInstrument, HFIRSANS2Wavelength, SaveNexus\n",
    "\n",
    "    flood_file = '/HFIR/CG3/IPTS-24666/nexus/CG3_5904.nxs.h5'\n",
    "    LoadEventNexus(Filename=flood_file, OutputWorkspace='flood_workspace')\n",
    "    HFIRSANS2Wavelength(InputWorkspace='flood_workspace', OutputWorkspace='flood_workspace')\n",
    "    flood_file = '/HFIR/CG3/shared/sans-backend/data/new/ornl/sans/hfir/biosans/pixel_calibration/flood_files/CG3_5904.nxs'\n",
    "    SaveNexus(InputWorkspace='flood_workspace', Filename=flood_file)"
   ]
  },
  {
   "cell_type": "markdown",
   "metadata": {},
   "source": [
    "The rebinned file is 178 MB in size."
   ]
  },
  {
   "cell_type": "code",
   "execution_count": null,
   "metadata": {},
   "outputs": [],
   "source": [
    "flood_file = '/HFIR/CG3/shared/sans-backend/data/new/ornl/sans/hfir/biosans/pixel_calibration/flood_files/CG3_5904.nxs'\n",
    "LoadNexus(Filename=flood_file, OutputWorkspace='flood_workspace')"
   ]
  },
  {
   "cell_type": "markdown",
   "metadata": {},
   "source": [
    "The main detector needs the beam center to be masked prior to running the tube width calibration.\n",
    "\n",
    "We have masked the beam center and saved the mask in a file. Here we apply the mask to the workspace using `apply_mask`"
   ]
  },
  {
   "cell_type": "code",
   "execution_count": null,
   "metadata": {},
   "outputs": [],
   "source": [
    "from drtsans.mono.biosans import apply_mask\n",
    "mask_file = '/HFIR/CG3/shared/sans-backend/data/new/ornl/sans/hfir/biosans/pixel_calibration/flood_files/mask_5904.xml'\n",
    "apply_mask('flood_workspace', mask=mask_file)"
   ]
  },
  {
   "cell_type": "code",
   "execution_count": null,
   "metadata": {},
   "outputs": [],
   "source": [
    "plot_main_detector('flood_workspace', axes_mode='tube-pixel')"
   ]
  },
  {
   "cell_type": "markdown",
   "metadata": {},
   "source": [
    "Ideally, calculation of the apparent tube width requires that the pixel positions and heights have been calibrated with a barscan. If no good barscan is present in the database, we can bypass applying the bar scan with option `load_barscan_calibration=False`."
   ]
  },
  {
   "cell_type": "code",
   "execution_count": null,
   "metadata": {},
   "outputs": [],
   "source": [
    "from drtsans.mono.biosans import calculate_apparent_tube_width\n",
    "\n",
    "start_time = time.time()\n",
    "calibration_main = calculate_apparent_tube_width('flood_workspace', component='detector1',\n",
    "                                                 load_barscan_calibration=True)\n",
    "calibration_wing = calculate_apparent_tube_width('flood_workspace', component='wing_detector',\n",
    "                                                 load_barscan_calibration=True)\n",
    "print('Calibration took ', int(time.time() - start_time), 'seconds')"
   ]
  },
  {
   "cell_type": "markdown",
   "metadata": {},
   "source": [
    "<h5>Calibration objects are saved to a database as two separate pieces:</h5>\n",
    "\n",
    "- metadata (instrument name, day stamp, name of the double-detector-array) is save to a JSON file.  \n",
    "- data (a table workspace) is saved to a Nexus file with SaveNexus.  \n",
    "\n",
    "There's a default database for every instrument. The BIOSANS location for the metadata JSON file:\n",
    "\n",
    "- BIOSANS: <b>/HFIR/CG3/shared/calibration/pixel_calibration.json</b>\n",
    "\n",
    "Data tables are saved under `tables/` subdirectory:\n",
    "\n",
    "- BIOSANS: <b>/HFIR/CG3/shared/calibration/tables</b>\n",
    "\n",
    "<h5>Calibration objects have method \"<b>save</b>\" to save itself to the the database. The full signature of this method:</h5>\n",
    "\n",
    "    def save(self, database=None, tablefile=None, overwrite=False):\n",
    "        r\"\"\"\n",
    "        Save the calibration metadata in a JSON file, and the calibration table workspace in a Nexus file.\n",
    "\n",
    "        Parameters\n",
    "        ----------\n",
    "        database: str\n",
    "            Path to the JSON file where the ```metadata``` dictionary will be appended. If :py:obj:`None`,\n",
    "            then the appropriate default file from ~drtsans.pixel_calibration.database_file is used.\n",
    "            Currently, these are the default files:\n",
    "            - BIOSANS, '/HFIR/CG3/shared/calibration/pixel_calibration.json',\n",
    "            - EQSANS, '/SNS/EQSANS/shared/calibration/pixel_calibration.json',\n",
    "            - GPSANS, '/HFIR/CG2/shared/calibration/pixel_calibration.json'\n",
    "        tablefile: str\n",
    "            Path to the Nexus file storing the pixel calibration data. If :py:obj:`None`, then\n",
    "            a composite name is created using the calibration type, instrument, component,\n",
    "            and daystamp. (e.g. \"barscan_biosans_detector1_20200311\"). The file is saved under\n",
    "            subdirectory 'tables', located within the directory of the ```database``` file.\n",
    "            For instance, '/HFIR/CG3/shared/calibration/tables/barscan_biosans_detector1_20200311.nxs'\n",
    "        overwrite: bool\n",
    "            Substitute existing entry with same metadata\n",
    "\n",
    "        Raises\n",
    "        ------\n",
    "        ValueError\n",
    "            If we save a calibration already in the database with option ```overwrite=False```.\n",
    "        \"\"\""
   ]
  },
  {
   "cell_type": "code",
   "execution_count": null,
   "metadata": {},
   "outputs": [],
   "source": [
    "calibration_main.save(overwrite=True)  # save calibrations in the default database\n",
    "calibration_wing.save(overwrite=True)"
   ]
  },
  {
   "cell_type": "markdown",
   "metadata": {},
   "source": [
    "<h3>Load and Apply a Tube Width Calibration</h3>\n",
    "\n",
    "First some general imports and a couple of custom plotting functions"
   ]
  },
  {
   "cell_type": "code",
   "execution_count": null,
   "metadata": {},
   "outputs": [],
   "source": [
    "import time\n",
    "from mantid.api import mtd\n",
    "from mantid.simpleapi import CreateWorkspace, LoadNexus\n",
    "from drtsans.tubecollection import TubeCollection\n",
    "from matplotlib import pyplot as plt\n",
    "#\n",
    "# \"plot_histograms\" to create fancy plots of the spectram stored in an input workspace\n",
    "#\n",
    "def plot_histograms(input_workspace, legend=[], xlabel='X-axis', ylabel='Y-axis', title='', linewidths=[]):\n",
    "    r\"\"\"Line plot for the histograms of a workspace\"\"\"\n",
    "    workspace = mtd[str(input_workspace)]\n",
    "    number_histograms = workspace.getNumberHistograms()\n",
    "    if len(legend) != number_histograms:\n",
    "        legend = [str(i) for i in range(number_histograms)]\n",
    "    if len(linewidths) != number_histograms:\n",
    "        linewidths = [1] * number_histograms\n",
    "    fig, ax = plt.subplots(subplot_kw={'projection':'mantid'})\n",
    "    for workspace_index in range(number_histograms):\n",
    "        ax.plot(workspace, wkspIndex=workspace_index, label=legend[workspace_index],\n",
    "                linewidth=linewidths[workspace_index])\n",
    "    ax.legend()\n",
    "    ax.set_xlabel(xlabel)\n",
    "    ax.set_ylabel(ylabel)\n",
    "    ax.set_title(title)\n",
    "    ax.tick_params(axis='x', direction='in')\n",
    "    ax.tick_params(axis='y', direction='out')\n",
    "    ax.grid(True)\n",
    "    fig.show()"
   ]
  },
  {
   "cell_type": "code",
   "execution_count": null,
   "metadata": {},
   "outputs": [],
   "source": [
    "# Load the run to which we will apply the calibration, then plot the pixel intensities\n",
    "from drtsans.mono.biosans import apply_mask\n",
    "\n",
    "input_data = '/HFIR/CG3/shared/sans-backend/data/new/ornl/sans/hfir/biosans/pixel_calibration/flood_files/CG3_5904.nxs'\n",
    "LoadNexus(Filename=input_data, OutputWorkspace='workspace')\n",
    "mask_file = '/HFIR/CG3/shared/sans-backend/data/new/ornl/sans/hfir/biosans/pixel_calibration/flood_files/mask_5904.xml'\n",
    "apply_mask('workspace', mask=mask_file)"
   ]
  },
  {
   "cell_type": "code",
   "execution_count": null,
   "metadata": {},
   "outputs": [],
   "source": [
    "plot_main_detector('workspace', axes_mode='tube-pixel')\n",
    "plot_wing_detector('workspace', axes_mode='tube-pixel')"
   ]
  },
  {
   "cell_type": "markdown",
   "metadata": {},
   "source": [
    "The run corresponds to a flood run, and we have masked the beam center."
   ]
  },
  {
   "cell_type": "markdown",
   "metadata": {},
   "source": [
    "<h4>Intensities Normalized by Pixel Width</h4>\n",
    "In function <code>linear_density</code> we integrate the total intensity per tube and divide by the number of non-masked pixels in the tube, and by the tube width. Front end tubes collect more intentity than the back tubes. Similarly, front end tubes have a larger apparent tube width than back tubes. The ratio of total intensity to width should be similar for front and end tubes after the calibration."
   ]
  },
  {
   "cell_type": "code",
   "execution_count": null,
   "metadata": {},
   "outputs": [],
   "source": [
    "def linear_density(workspace, component='detector1'):\n",
    "    r\"\"\"Tube total intensity per unit length of tube width\"\"\"\n",
    "    collection = TubeCollection(workspace, component).sorted(view='decreasing X')\n",
    "    intensities = np.array([np.sum(tube.readY) for tube in collection])\n",
    "    widths = np.array([tube.width for tube in collection])\n",
    "    number_pixels_not_masked = np.array([np.sum(~tube.isMasked) for tube in collection])\n",
    "    return list(intensities / (number_pixels_not_masked * widths))\n",
    "\n",
    "uncalibrated_main_densities = linear_density('workspace', component='detector1')\n",
    "uncalibrated_wing_densities = linear_density('workspace', component='wing_detector')"
   ]
  },
  {
   "cell_type": "markdown",
   "metadata": {},
   "source": [
    "We store both linear densities in a workspace, and then we'll use matplotlib to plot both densities.\n",
    "\n",
    "Next, we load and apply the calibration to each detector. We don't apply the `BARSCAN` calibration here, but just the `TUBEWIDTH` calibration."
   ]
  },
  {
   "cell_type": "code",
   "execution_count": null,
   "metadata": {},
   "outputs": [],
   "source": [
    "from drtsans.mono.biosans import apply_calibrations\n",
    "\n",
    "apply_calibrations('workspace', calibrations='TUBEWIDTH')\n",
    "calibrated_main_densities = linear_density('workspace', component='detector1')\n",
    "calibrated_wing_densities = linear_density('workspace', component='wing_detector')"
   ]
  },
  {
   "cell_type": "markdown",
   "metadata": {},
   "source": [
    "We store both linear densities in a workspace, and then we'll use matplotlib to plot both densities"
   ]
  },
  {
   "cell_type": "code",
   "execution_count": null,
   "metadata": {},
   "outputs": [],
   "source": [
    "number_tubes = len(uncalibrated_main_densities)\n",
    "CreateWorkspace(DataX=range(number_tubes),\n",
    "                DataY=np.array([uncalibrated_main_densities, calibrated_main_densities]),\n",
    "                NSpec=2,   # two histograms\n",
    "                Outputworkspace='main_linear_densities')\n",
    "plot_histograms('main_linear_densities', title='Main Detector Linear Densities',\n",
    "                legend=['no calibration', 'calibrated'],\n",
    "                xlabel='Tube Index', ylabel='Intensity', linewidths=[3, 1])\n",
    "\n",
    "number_tubes = len(uncalibrated_wing_densities)\n",
    "CreateWorkspace(DataX=range(number_tubes),\n",
    "                DataY=np.array([uncalibrated_wing_densities, calibrated_wing_densities]),\n",
    "                NSpec=2,   # two histograms\n",
    "                Outputworkspace='wing_linear_densities')\n",
    "plot_histograms('wing_linear_densities', title='Wing Detector Linear Densities',\n",
    "                legend=['no calibration', 'calibrated'],\n",
    "                xlabel='Tube Index', ylabel='Intensity', linewidths=[3, 1])"
   ]
  },
  {
   "cell_type": "markdown",
   "metadata": {},
   "source": [
    "The oscillating intensities in the linear densities have been suppresed for most tubes, indicating the calibration is working."
   ]
  },
  {
   "cell_type": "markdown",
   "metadata": {},
   "source": [
    "<h3>Loading and Applying a pixel calibration</h3>\n",
    "\n",
    "Relevant function is [apply_calibrations](http://docs.drt-sans.ornl.gov/drtsans/pixel_calibration.html#drtsans.pixel_calibration.apply_calibrations), which will search for <code>BARSCAN</code> and <code>TUBEWIDTH</code> calibrations appropriate to the target run"
   ]
  },
  {
   "cell_type": "code",
   "execution_count": null,
   "metadata": {},
   "outputs": [],
   "source": [
    "import time\n",
    "from mantid.simpleapi import LoadNexus\n",
    "from drtsans.mono.biosans import apply_calibrations\n",
    "\n",
    "#\n",
    "# \"plot_workspace\" is a utility function, which we will use a couple of times\n",
    "#\n",
    "from drtsans.plots import plot_detector\n",
    "def plot_workspace(input_workspace, axes_mode='tube-pixel'):\n",
    "    return plot_detector(input_workspace, backend='mpl',axes_mode=axes_mode, imshow_kwargs={})"
   ]
  },
  {
   "cell_type": "code",
   "execution_count": null,
   "metadata": {},
   "outputs": [],
   "source": [
    "# Load the run to which we will apply the calibration, then plot the pixel intensities\n",
    "from drtsans.mono.biosans import apply_mask\n",
    "\n",
    "input_data = '/HFIR/CG3/shared/sans-backend/data/new/ornl/sans/hfir/biosans/pixel_calibration/flood_files/CG3_5904.nxs'\n",
    "LoadNexus(Filename=input_data, OutputWorkspace='workspace')\n",
    "mask_file = '/HFIR/CG3/shared/sans-backend/data/new/ornl/sans/hfir/biosans/pixel_calibration/flood_files/mask_5904.xml'\n",
    "apply_mask('workspace', mask=mask_file)"
   ]
  },
  {
   "cell_type": "code",
   "execution_count": null,
   "metadata": {},
   "outputs": [],
   "source": [
    "plot_main_detector('workspace', axes_mode='tube-pixel')\n",
    "plot_wing_detector('workspace', axes_mode='tube-pixel')"
   ]
  },
  {
   "cell_type": "code",
   "execution_count": null,
   "metadata": {},
   "outputs": [],
   "source": [
    "start_time = time.time()\n",
    "apply_calibrations('workspace')  # apply both BARSCAN  TUBEWIDTH\n",
    "print('Applying the calibration took ', time.time() - start_time, 'seconds')"
   ]
  },
  {
   "cell_type": "code",
   "execution_count": null,
   "metadata": {},
   "outputs": [],
   "source": [
    "plot_main_detector('workspace', axes_mode='xy')\n",
    "plot_wing_detector('workspace', axes_mode='xy')"
   ]
  },
  {
   "cell_type": "markdown",
   "metadata": {},
   "source": [
    "We can see when the BARSCAN calibration was taken, and the time when the input data was taken. For this we use function [load_calibration](http://docs.drt-sans.ornl.gov/drtsans/pixel_calibration.html#drtsans.pixel_calibration.load_calibration) and function <code>day_stamp</code>."
   ]
  },
  {
   "cell_type": "code",
   "execution_count": null,
   "metadata": {},
   "outputs": [],
   "source": [
    "from drtsans.pixel_calibration import load_calibration, day_stamp\n",
    "barscan_calibration = load_calibration('workspace', 'BARSCAN')\n",
    "tubewidth_calibration = load_calibration('workspace', 'TUBEWIDTH')\n",
    "print('BARSCAN taken on', barscan_calibration.daystamp)\n",
    "print('TUBEWIDTH taken on', tubewidth_calibration.daystamp)\n",
    "print('Input data taken on ', day_stamp('workspace'))"
   ]
  },
  {
   "cell_type": "code",
   "execution_count": null,
   "metadata": {},
   "outputs": [],
   "source": []
  }
 ],
 "metadata": {
  "kernelspec": {
   "display_name": "Python 3",
   "language": "python",
   "name": "python3"
  },
  "language_info": {
   "codemirror_mode": {
    "name": "ipython",
    "version": 3
   },
   "file_extension": ".py",
   "mimetype": "text/x-python",
   "name": "python",
   "nbconvert_exporter": "python",
   "pygments_lexer": "ipython3",
   "version": "3.6.9"
  },
  "toc": {
   "base_numbering": 1,
   "nav_menu": {},
   "number_sections": true,
   "sideBar": true,
   "skip_h1_title": false,
   "title_cell": "Table of Contents",
   "title_sidebar": "Contents",
   "toc_cell": false,
   "toc_position": {},
   "toc_section_display": true,
   "toc_window_display": false
  }
 },
 "nbformat": 4,
 "nbformat_minor": 2
}
