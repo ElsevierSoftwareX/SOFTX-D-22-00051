{
 "cells": [
  {
   "cell_type": "markdown",
   "metadata": {},
   "source": [
    "<h3>General Imports and Macros</h3>"
   ]
  },
  {
   "cell_type": "code",
   "execution_count": null,
   "metadata": {},
   "outputs": [],
   "source": [
    "# Standard imports\n",
    "import os\n",
    "import sys\n",
    "import time\n",
    "\n",
    "# Third-party packages\n",
    "import numpy as np\n",
    "import matplotlib.pyplot as plt\n",
    "%matplotlib notebook\n",
    "\n",
    "# Mantid imports\n",
    "from mantid.simpleapi import LoadEventNexus, Rebin, CreateWorkspace\n",
    "from mantid.api import mtd\n",
    "from mantid import plots\n",
    "\n",
    "# drtsans imports\n",
    "from drtsans.pixel_calibration import calculate_apparent_tube_width, load_calibration, as_intensities\n",
    "from drtsans.plots import plot_detector\n",
    "from drtsans.tubecollection import TubeCollection"
   ]
  },
  {
   "cell_type": "markdown",
   "metadata": {},
   "source": [
    "<h3>Utility functions</h3>  \n",
    "\n",
    "- <code>plot_detector</code>  \n",
    "- <code>plot_histograms</code>"
   ]
  },
  {
   "cell_type": "code",
   "execution_count": null,
   "metadata": {},
   "outputs": [],
   "source": [
    "def plot_detector_array(input_workspace, axes_mode='tube-pixel', panel_name='detector1'):\n",
    "    r\"\"\"Bidimensional plot of pixel intensities for a double-panel detector array\"\"\"\n",
    "    return plot_detector(input_workspace, backend='mpl',axes_mode=axes_mode,\n",
    "                         panel_name=panel_name, imshow_kwargs={})\n",
    "\n",
    "def plot_histograms(input_workspace, legend=[], xlabel='X-axis', ylabel='Y-axis', title='', linewidths=[]):\n",
    "    r\"\"\"Line plot for the histograms of a workspace\"\"\"\n",
    "    workspace = mtd[str(input_workspace)]\n",
    "    number_histograms = workspace.getNumberHistograms()\n",
    "    if len(legend) != number_histograms:\n",
    "        legend = [str(i) for i in range(number_histograms)]\n",
    "    if len(linewidths) != number_histograms:\n",
    "        linewidths = [1] * number_histograms\n",
    "    fig, ax = plt.subplots(subplot_kw={'projection':'mantid'})\n",
    "    for workspace_index in range(number_histograms):\n",
    "        ax.plot(workspace, wkspIndex=workspace_index, label=legend[workspace_index],\n",
    "                linewidth=linewidths[workspace_index])\n",
    "    ax.legend()\n",
    "    ax.set_xlabel(xlabel)\n",
    "    ax.set_ylabel(ylabel)\n",
    "    ax.set_title(title)\n",
    "    ax.tick_params(axis='x', direction='in')\n",
    "    ax.tick_params(axis='y', direction='out')\n",
    "    ax.grid(True)\n",
    "    fig.show()"
   ]
  },
  {
   "cell_type": "markdown",
   "metadata": {},
   "source": [
    "<h3>Dataset</h3>\n",
    "\n",
    "The flood file is an event nexus file 1.6GB in size. We don't need the events, but only the total intensity per pixel, so we convert to a matrix workspace and keep only one bin."
   ]
  },
  {
   "cell_type": "code",
   "execution_count": null,
   "metadata": {},
   "outputs": [],
   "source": [
    "LoadEventNexus(Filename='/HFIR/CG2/IPTS-23801/nexus/CG2_8143.nxs.h5', OutputWorkspace='flood_workspace')\n",
    "Rebin(InputWorkspace='flood_workspace', OutputWorkspace='flood_workspace',\n",
    "      Params=[0, 1.E06, 1.E06], PreserveEvents=False)"
   ]
  },
  {
   "cell_type": "markdown",
   "metadata": {},
   "source": [
    "<h3>Calibration</h3>\n",
    "We carry out the calibration and apply it to the input flood workspace to adjust for tube width, saving to a new workspace (<code>calibrated_workspace</code>) for comparison of workspaces before and after the calibration."
   ]
  },
  {
   "cell_type": "code",
   "execution_count": null,
   "metadata": {},
   "outputs": [],
   "source": [
    "start_time = time.time()\n",
    "calibration = calculate_apparent_tube_width('flood_workspace', load_barscan_calibration=False)\n",
    "print('Calibration took ', int(time.time() - start_time), 'seconds')\n",
    "calibration.apply('flood_workspace', output_workspace='calibrated_workspace')"
   ]
  },
  {
   "cell_type": "markdown",
   "metadata": {},
   "source": [
    "<h3>Intensities Normalized by Pixel Width</h3>\n",
    "In function <code>linear_density</code> we integrate the total intensity per tube and divide by the tube width. Front end tubes collect more intentity than the back tubes. Similarly, front end tubes have a larger apparent tube width than back tubes. The ratio of total intensity to width should be similar for front and end tubes after the calibration."
   ]
  },
  {
   "cell_type": "code",
   "execution_count": null,
   "metadata": {},
   "outputs": [],
   "source": [
    "def linear_density(workspace):\n",
    "    r\"\"\"Tube total intensity per unit length of tube width\"\"\"\n",
    "    collection = TubeCollection(workspace, 'detector1').sorted(view='decreasing X')\n",
    "    intensities = np.array([np.sum(tube.readY) for tube in collection])\n",
    "    widths = np.array([tube[0].width for tube in collection])\n",
    "    return list(intensities / widths)\n",
    "uncalibrated_densities = linear_density('flood_workspace')\n",
    "calibrated_densities = linear_density('calibrated_workspace')"
   ]
  },
  {
   "cell_type": "markdown",
   "metadata": {},
   "source": [
    "We store both linear densities in a workspace, and then we'll use matplotlib to plot both densities"
   ]
  },
  {
   "cell_type": "code",
   "execution_count": null,
   "metadata": {},
   "outputs": [],
   "source": [
    "number_tubes = len(uncalibrated_densities)\n",
    "CreateWorkspace(DataX=range(number_tubes),\n",
    "                DataY=np.array([uncalibrated_densities, calibrated_densities]),\n",
    "                NSpec=2,   # two histograms\n",
    "                Outputworkspace='linear_densities')"
   ]
  },
  {
   "cell_type": "code",
   "execution_count": null,
   "metadata": {},
   "outputs": [],
   "source": [
    "plot_histograms('linear_densities', legend=['before', 'after'],\n",
    "                xlabel='Tube Index', ylabel='Intensity / Tube-Width')"
   ]
  },
  {
   "cell_type": "markdown",
   "metadata": {},
   "source": [
    "<h3>Saving the Calibration</h3>\n",
    "There are default database files for each instrument when saving a calibration. For GPSANS is <code>/HFIR/CG2/shared/calibration/pixel_calibration.json</code>. We don't want to mess with the official database so we save this calibration to a temporary database file.\n",
    "We use argument overwrite=True in case we run the notebook more than once. Then we will overwrite the existing \n",
    "calibration entry in the database."
   ]
  },
  {
   "cell_type": "code",
   "execution_count": null,
   "metadata": {},
   "outputs": [],
   "source": [
    "calibration.save(database='/HFIR/CG2/shared/calibration/tmp/pixel_calibration.json', overwrite=True)"
   ]
  },
  {
   "cell_type": "markdown",
   "metadata": {},
   "source": [
    "<h3>Applying a Saved Calibration</h3>\n",
    "Next we will overwrite the tube widths of our <code>'flood_workspace'</code> with the calibration we just saved."
   ]
  },
  {
   "cell_type": "code",
   "execution_count": null,
   "metadata": {
    "scrolled": true
   },
   "outputs": [],
   "source": [
    "saved_calibration = load_calibration('flood_workspace', 'TUBEWIDTH',\n",
    "                                     database='/HFIR/CG2/shared/calibration/tmp/pixel_calibration.json')\n",
    "saved_calibration.apply('flood_workspace')"
   ]
  },
  {
   "cell_type": "code",
   "execution_count": null,
   "metadata": {},
   "outputs": [],
   "source": [
    "calibrated_densities_v2 = linear_density('flood_workspace')\n",
    "CreateWorkspace(DataX=range(number_tubes),\n",
    "                DataY=np.array([calibrated_densities, calibrated_densities_v2]),\n",
    "                NSpec=2,   # two histograms\n",
    "                Outputworkspace='linear_densities_v2')"
   ]
  },
  {
   "cell_type": "code",
   "execution_count": null,
   "metadata": {},
   "outputs": [],
   "source": [
    "plot_histograms('linear_densities_v2',\n",
    "                legend=['calibration applied before saving', 'calibration applied after saving'],\n",
    "                xlabel='Tube Index', ylabel='Intensity', linewidths=[3, 1])"
   ]
  }
 ],
 "metadata": {
  "kernelspec": {
   "display_name": "Python 3",
   "language": "python",
   "name": "python3"
  },
  "language_info": {
   "codemirror_mode": {
    "name": "ipython",
    "version": 3
   },
   "file_extension": ".py",
   "mimetype": "text/x-python",
   "name": "python",
   "nbconvert_exporter": "python",
   "pygments_lexer": "ipython3",
   "version": "3.6.9"
  },
  "toc": {
   "base_numbering": 1,
   "nav_menu": {},
   "number_sections": true,
   "sideBar": true,
   "skip_h1_title": false,
   "title_cell": "Table of Contents",
   "title_sidebar": "Contents",
   "toc_cell": false,
   "toc_position": {},
   "toc_section_display": true,
   "toc_window_display": false
  },
  "pycharm": {
   "stem_cell": {
    "cell_type": "raw",
    "source": [],
    "metadata": {
     "collapsed": false
    }
   }
  }
 },
 "nbformat": 4,
 "nbformat_minor": 2
}